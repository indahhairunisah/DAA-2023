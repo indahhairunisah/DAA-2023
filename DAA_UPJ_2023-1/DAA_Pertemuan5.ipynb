{
  "nbformat": 4,
  "nbformat_minor": 0,
  "metadata": {
    "colab": {
      "provenance": []
    },
    "kernelspec": {
      "name": "python3",
      "display_name": "Python 3"
    },
    "language_info": {
      "name": "python"
    }
  },
  "cells": [
    {
      "cell_type": "markdown",
      "source": [
        "# **LATIHAN 1**"
      ],
      "metadata": {
        "id": "fiNEC8UO2T_c"
      }
    },
    {
      "cell_type": "code",
      "execution_count": null,
      "metadata": {
        "colab": {
          "base_uri": "https://localhost:8080/"
        },
        "id": "BqsYt5MJPxb0",
        "outputId": "2c482634-55d1-46b8-84d9-2c20a6c10e1d"
      },
      "outputs": [
        {
          "output_type": "stream",
          "name": "stdout",
          "text": [
            "The minimum number in the array is:  1\n",
            "The maximum number in the array is:  35\n"
          ]
        }
      ],
      "source": [
        "# Slide 18\n",
        "\n",
        "def divideAndConquer_Max(arr, ind, len):\n",
        "  maximum = -1;\n",
        "\n",
        "  if (ind >= len - 2):\n",
        "    if (arr[ind] > arr[ind + 1]):\n",
        "      return arr[ind];\n",
        "    else:\n",
        "      return arr[ind + 1];\n",
        "\n",
        "  maximum = divideAndConquer_Max(arr, ind + 1, len);\n",
        "\n",
        "  if (arr[ind] > maximum):\n",
        "    return arr[ind];\n",
        "\n",
        "  else:\n",
        "    return maximum;\n",
        "\n",
        "def divideAndConquer_Min(arr, ind, len):\n",
        "  minimum = 0;\n",
        "  if (ind >= len - 2):\n",
        "    if (arr[ind] < arr[ind + 1]):\n",
        "      return arr[ind];\n",
        "    else:\n",
        "      return arr[ind + 1];\n",
        "\n",
        "  minimum = divideAndConquer_Min(arr, ind + 1, len);\n",
        "\n",
        "  if (arr[ind] < minimum):\n",
        "    return arr[ind];\n",
        "  else:\n",
        "    return minimum;\n",
        "\n",
        "if __name__=='__main__':\n",
        "\n",
        "  minimum, maximum = 0, -1;\n",
        "\n",
        "  # array initialization\n",
        "  arr = [4,12,23,9,21,1,35,2,24];\n",
        "\n",
        "  maximum = divideAndConquer_Max(arr, 0, 9);\n",
        "  minimum = divideAndConquer_Min(arr, 0, 9);\n",
        "\n",
        "  print(\"The minimum number in the array is: \", minimum);\n",
        "  print(\"The maximum number in the array is: \", maximum);"
      ]
    },
    {
      "cell_type": "markdown",
      "source": [
        "# **LATIHAN 2**"
      ],
      "metadata": {
        "id": "gVlLj9ns2cSi"
      }
    },
    {
      "cell_type": "code",
      "source": [
        "# Slide 23\n",
        "\n",
        "# MergeSort in Python\n",
        "def mergeSort(array):\n",
        "  if len(array) > 1:\n",
        "\n",
        "      # r is the point where the array is divided into two subarrays\n",
        "      r = len(array)//2\n",
        "      L = array[:r]\n",
        "      M = array[r:]\n",
        "\n",
        "      # Sort the two halves\n",
        "      mergeSort(L)\n",
        "      mergeSort(M)\n",
        "\n",
        "      i = j = k = 0\n",
        "\n",
        "      # Until we reach either end of either L or M, pick larger among\n",
        "      # elements L and M and place them in the correct position at A[p..r]\n",
        "      while i < len(L) and j < len(M):\n",
        "          if L[i] < M[j]:\n",
        "              array[k] = L[i]\n",
        "              i += 1\n",
        "          else:\n",
        "              array[k] = M[j]\n",
        "              j += 1\n",
        "          k += 1\n",
        "\n",
        "      # When we run out of elements in either L or M,\n",
        "      # pick up the remaining elements and put in A[p..r]\n",
        "      while i < len(L):\n",
        "        array[k] = L[i]\n",
        "        i += 1\n",
        "        k += 1\n",
        "\n",
        "      while j < len(M):\n",
        "        array[k] = M[j]\n",
        "        j += 1\n",
        "        k += 1\n",
        "\n",
        "# Print the array\n",
        "def printList(array):\n",
        "    for i in range(len(array)):\n",
        "      print(array[i], end=\" \")\n",
        "    print()\n",
        "\n",
        "# Driver program\n",
        "if __name__ == '__main__':\n",
        "    array = [4,12,23,9,21,1,35,2,24]\n",
        "\n",
        "    mergeSort (array)\n",
        "\n",
        "    print(\"Sorted array is: \")\n",
        "    printList(array)"
      ],
      "metadata": {
        "colab": {
          "base_uri": "https://localhost:8080/"
        },
        "id": "4n5FgC_xW6-Y",
        "outputId": "e2100a69-c828-4ebd-d3ce-ccdd94e4118e"
      },
      "execution_count": null,
      "outputs": [
        {
          "output_type": "stream",
          "name": "stdout",
          "text": [
            "Sorted array is: \n",
            "1 2 4 9 12 21 23 24 35 \n"
          ]
        }
      ]
    },
    {
      "cell_type": "markdown",
      "source": [
        "# **LATIHAN 3**"
      ],
      "metadata": {
        "id": "McBtu9aM2jCJ"
      }
    },
    {
      "cell_type": "code",
      "source": [
        "# Slide 24\n",
        "\n",
        "# Function to find the partition position\n",
        "def partition (array, low, high):\n",
        "# choose the rightmost element as pivot\n",
        "  pivot = array[high]\n",
        "# pointer for greater element\n",
        "  i = low - 1\n",
        "# traverse through all elements # compare each element with pivot\n",
        "  for j in range(low, high):\n",
        "    if array[j] <= pivot:\n",
        "# If element smaller than pivot is found\n",
        "# swap it with the greater element pointed by i\n",
        "      i = i + 1\n",
        "# Swapping element at i with element at j\n",
        "      (array[i], array[j]) = (array[j], array[i])\n",
        "# Swap the pivot element with the greater element specified by i\n",
        "  (array[i+1], array[high]) = (array[high], array[i + 1])\n",
        "# Return the position from where partition is done\n",
        "  return i + 1"
      ],
      "metadata": {
        "id": "kHG4ObLNYWz8"
      },
      "execution_count": null,
      "outputs": []
    },
    {
      "cell_type": "code",
      "source": [
        "# function to perform quicksort\n",
        "def quickSort (array, low, high):\n",
        "  if low < high:\n",
        "# Find pivot element such that\n",
        "# element smaller than pivot are on the left # element greater than pivot are on the right\n",
        "    pi = partition(array, low, high)\n",
        "# Recursive call on the left of pivot\n",
        "    quickSort (array, low, pi - 1)\n",
        "# Recursive call on the right of pivot\n",
        "    quickSort (array, pi + 1, high)"
      ],
      "metadata": {
        "id": "QRIIrFJdjaV5"
      },
      "execution_count": null,
      "outputs": []
    },
    {
      "cell_type": "code",
      "source": [
        "data = [4,12,23,9,21,1,35,2,24]\n",
        "print(\"Unsorted Array\")\n",
        "print(data)\n",
        "size= len(data)\n",
        "quickSort(data, 0, size - 1)\n",
        "print('Sorted Array in Ascending Order:')\n",
        "print(data)"
      ],
      "metadata": {
        "colab": {
          "base_uri": "https://localhost:8080/"
        },
        "id": "hQHgNOwkjdi4",
        "outputId": "22a6ac87-9b48-45be-fee7-b7e09b99f947"
      },
      "execution_count": null,
      "outputs": [
        {
          "output_type": "stream",
          "name": "stdout",
          "text": [
            "Unsorted Array\n",
            "[4, 12, 23, 9, 21, 1, 35, 2, 24]\n",
            "Sorted Array in Ascending Order:\n",
            "[1, 2, 4, 9, 12, 21, 23, 24, 35]\n"
          ]
        }
      ]
    },
    {
      "cell_type": "markdown",
      "source": [
        "# **LATIHAN 4**"
      ],
      "metadata": {
        "id": "08miwZIh2mi_"
      }
    },
    {
      "cell_type": "code",
      "source": [
        "# Slide 32\n",
        "\n",
        "#Hitung Inversi\n",
        "\n",
        "def countInversion(arr):\n",
        "  result=0\n",
        "  for i in range(len(arr)):\n",
        "    for j in range(i+1, len(arr)):\n",
        "      if arr[i]>arr[j]:\n",
        "        result+=1\n",
        "  return result"
      ],
      "metadata": {
        "id": "vFIeR5YwqeHV"
      },
      "execution_count": null,
      "outputs": []
    },
    {
      "cell_type": "code",
      "source": [
        "arr=[21,70,36,14,25]\n",
        "result=countInversion(arr)\n",
        "print(result)"
      ],
      "metadata": {
        "colab": {
          "base_uri": "https://localhost:8080/"
        },
        "id": "KZWtte1_qnK8",
        "outputId": "eb427cf1-c0e7-47d3-8b93-54c8440681e0"
      },
      "execution_count": null,
      "outputs": [
        {
          "output_type": "stream",
          "name": "stdout",
          "text": [
            "6\n"
          ]
        }
      ]
    },
    {
      "cell_type": "markdown",
      "source": [
        "# **LATIHAN 5**"
      ],
      "metadata": {
        "id": "m76vgMUB2pgb"
      }
    },
    {
      "cell_type": "code",
      "source": [
        "# Slide 36\n",
        "\n",
        "def countInversion(arr):\n",
        "  icount = 0\n",
        "  if len(arr) <= 1:\n",
        "    return icount\n",
        "\n",
        "  mid = len(arr)//2\n",
        "  left = arr [:mid]\n",
        "  right = arr [mid:]\n",
        "  icount += countInversion(left)\n",
        "  icount += countInversion(right)\n",
        "  i = j = k = 0\n",
        "\n",
        "  #print (left)\n",
        "  #print (right)\n",
        "  while i < len(left) and j < len(right):\n",
        "    if left [i] <  right [j]:\n",
        "      arr [k] = left [i]\n",
        "      i = i + 1\n",
        "    else:\n",
        "      #print (left[i], right [j])\n",
        "      arr[k] = right [j]\n",
        "      j = j + 1\n",
        "      icount += (mid -i)\n",
        "    k = k + 1\n",
        "  while i < len(left):\n",
        "    arr[k] = left[i]\n",
        "    i = i + 1\n",
        "    k = k + 1\n",
        "  while j < len(right):\n",
        "    arr[k] = right [j]\n",
        "    j = j + 1\n",
        "    k = k + 1\n",
        "\n",
        "  return icount"
      ],
      "metadata": {
        "id": "gexsLCMJp3jT"
      },
      "execution_count": null,
      "outputs": []
    },
    {
      "cell_type": "code",
      "source": [
        "arr = [1, 20, 6, 4, 5]\n",
        "result = countInversion(arr)\n",
        "print (result)"
      ],
      "metadata": {
        "colab": {
          "base_uri": "https://localhost:8080/"
        },
        "id": "b4_9D7X8qN_o",
        "outputId": "e8963b53-efba-4cb1-c01b-b3dc2c33d5bb"
      },
      "execution_count": null,
      "outputs": [
        {
          "output_type": "stream",
          "name": "stdout",
          "text": [
            "5\n"
          ]
        }
      ]
    },
    {
      "cell_type": "markdown",
      "source": [
        "# **LATIHAN 6**"
      ],
      "metadata": {
        "id": "NSZ6j_oT2tOp"
      }
    },
    {
      "cell_type": "code",
      "source": [
        "# Slide 37\n",
        "\n",
        "# Tanpa divide dan conqueror\n",
        "def maxSubMax (arr):\n",
        "  max_so_far = 0\n",
        "  max_ending_here = 0\n",
        "  for i in range (len(arr)):\n",
        "    max_ending_here = max_ending_here + arr[i]\n",
        "    if max_ending_here > max_so_far:\n",
        "      max_so_far = max_ending_here\n",
        "    if max_ending_here < 0:\n",
        "      max_ending_here = 0\n",
        "  return max_so_far"
      ],
      "metadata": {
        "id": "nPyx_9K8nXDc"
      },
      "execution_count": null,
      "outputs": []
    },
    {
      "cell_type": "code",
      "source": [
        "arr = [-2, -5, 6, -2, -3, 1, 5, -6]\n",
        "result = maxSubMax(arr)\n",
        "print (result)"
      ],
      "metadata": {
        "colab": {
          "base_uri": "https://localhost:8080/"
        },
        "id": "srtn679Pnms5",
        "outputId": "ec24d611-7143-4a20-f780-47b71e6e3611"
      },
      "execution_count": null,
      "outputs": [
        {
          "output_type": "stream",
          "name": "stdout",
          "text": [
            "7\n"
          ]
        }
      ]
    },
    {
      "cell_type": "markdown",
      "source": [
        "# **LATIHAN 7**"
      ],
      "metadata": {
        "id": "aj3eRQxh2y5-"
      }
    },
    {
      "cell_type": "code",
      "source": [
        "# Slide 38\n",
        "\n",
        "\\# Menggunakan Devide and Conquer\n",
        "def maxCrossingSum(arr, low, mid, high):\n",
        "    result = 0\n",
        "    leftSum = float('-infinity')\n",
        "\n",
        "    for i in range(mid, low - 1, -1):\n",
        "        result += arr[i]\n",
        "        if result > leftSum:\n",
        "            leftSum = result\n",
        "\n",
        "    result = 0\n",
        "    rightSum = float('-infinity')\n",
        "\n",
        "    for i in range(mid + 1, high + 1):\n",
        "        result += arr[i]\n",
        "        if result > rightSum:\n",
        "            rightSum = result\n",
        "\n",
        "    return leftSum + rightSum\n",
        "\n",
        "def maxSum(arr, low, high):\n",
        "    if low == high:\n",
        "        return arr[low]\n",
        "\n",
        "    mid = (low + high) // 2\n",
        "\n",
        "    return max(maxSum(arr, low, mid),\n",
        "               maxSum(arr, mid + 1, high),\n",
        "               maxCrossingSum(arr, low, mid, high))\n",
        "\n",
        "arr = [-2, -5, 6, -2, -3, 1, 5, -6]\n",
        "result = maxSum(arr, 0, len(arr) - 1)\n",
        "print(result)"
      ],
      "metadata": {
        "colab": {
          "base_uri": "https://localhost:8080/"
        },
        "id": "ZcI6lErcpKkS",
        "outputId": "f070ec9d-a337-42b0-e7a2-b86b23a28902"
      },
      "execution_count": null,
      "outputs": [
        {
          "output_type": "stream",
          "name": "stdout",
          "text": [
            "7\n"
          ]
        }
      ]
    },
    {
      "cell_type": "markdown",
      "source": [
        "# **LATIHAN 8**"
      ],
      "metadata": {
        "id": "hNaaW1jt23wU"
      }
    },
    {
      "cell_type": "code",
      "source": [
        "# Slide 39\n",
        "\n",
        "# Longest Common Prefix\n",
        "def longestCommonPrefix(a):\n",
        "  size = len(a)\n",
        "\n",
        "  if (size == 0):\n",
        "    return \"\"\n",
        "\n",
        "  if (size == 1):\n",
        "    return a[0]\n",
        "\n",
        "  a.sort()\n",
        "\n",
        "  end = min(len(a[0]), len(a[size - 1]))\n",
        "\n",
        "  i = 0\n",
        "  while (i < end and a[0][i] == a[size - 1][i]):\n",
        "    i += 1\n",
        "\n",
        "  pre = a[0][0:i]\n",
        "  return pre\n",
        "\n",
        "arr = [\"geeksforgeeks\", \"geeks\", \"geek\", \"geezer\"]\n",
        "result = longestCommonPrefix(arr)\n",
        "print(result)\n"
      ],
      "metadata": {
        "colab": {
          "base_uri": "https://localhost:8080/"
        },
        "id": "sxfMvrlGo4MV",
        "outputId": "c980cb39-364a-42d0-8d93-62fb01944b43"
      },
      "execution_count": null,
      "outputs": [
        {
          "output_type": "stream",
          "name": "stdout",
          "text": [
            "gee\n"
          ]
        }
      ]
    },
    {
      "cell_type": "code",
      "source": [
        "arr = [\"apple\", \"ape\", \"april\"]\n",
        "result = longestCommonPrefix(arr)\n",
        "print(result)"
      ],
      "metadata": {
        "colab": {
          "base_uri": "https://localhost:8080/"
        },
        "id": "dtsqmFAerXqq",
        "outputId": "b3f55bcb-7be3-4392-dae5-24bcfb64c191"
      },
      "execution_count": null,
      "outputs": [
        {
          "output_type": "stream",
          "name": "stdout",
          "text": [
            "ap\n"
          ]
        }
      ]
    },
    {
      "cell_type": "markdown",
      "source": [
        "# **LATIHAN 9**"
      ],
      "metadata": {
        "id": "eZvgYOPT29J_"
      }
    },
    {
      "cell_type": "code",
      "source": [
        "# Slide 40\n",
        "\n",
        "# Median dari dua array dengan devide dan conquer\n",
        "def medianOfArray( arr1, arr2, n):\n",
        "  m1 = -1\n",
        "  m2 = -1\n",
        "  count = 0\n",
        "  i=j=0\n",
        "  while count < n+1:\n",
        "    count += 1\n",
        "    if i ==n: # i== index error if arr1[i]<arr2[j] ic checked\n",
        "      m1 = m2\n",
        "      m2 = arr2[0]\n",
        "      break\n",
        "    if j == n:\n",
        "      m1 = m2\n",
        "      m2 = arr1[0]\n",
        "      break\n",
        "    if arr1[i] < arr2[j]:\n",
        "      m1 = m2\n",
        "      m2 = arr1[i]\n",
        "      i += 1\n",
        "    else:\n",
        "      m1 = m2\n",
        "      m2 = arr2[j]\n",
        "      j += 1\n",
        "  return (m1 + m2) // 2\n",
        "\n",
        "arr1 = [1, 12, 15, 26, 38]\n",
        "arr2 = [2, 13, 17, 30, 45]\n",
        "\n",
        "result = medianOfArray(arr1, arr2, len(arr1))\n",
        "\n",
        "print(result)"
      ],
      "metadata": {
        "colab": {
          "base_uri": "https://localhost:8080/"
        },
        "id": "y1gsyTijo4Q9",
        "outputId": "9aa10206-4dc8-4c5b-be5e-03656cf356ac"
      },
      "execution_count": null,
      "outputs": [
        {
          "output_type": "stream",
          "name": "stdout",
          "text": [
            "16\n"
          ]
        }
      ]
    },
    {
      "cell_type": "markdown",
      "source": [
        "# **LATIHAN 10**"
      ],
      "metadata": {
        "id": "XTCb7RV12_9y"
      }
    },
    {
      "cell_type": "code",
      "source": [
        "# Slide 43\n",
        "\n",
        "def solution(arr):\n",
        "  n = len(arr)\n",
        "\n",
        "  if n % 2 == 0:\n",
        "    z = n // 2\n",
        "    e = arr[z]\n",
        "    q = arr[z - 1]\n",
        "    ans = (e + q) / 2\n",
        "    return ans\n",
        "  else:\n",
        "    z = n // 2\n",
        "    ans = arr[z]\n",
        "    return ans\n",
        "\n",
        "arr1 = [-5, 3, 6, 12, 15]\n",
        "arr2 = [-12, -10, -6, -3, 4, 10]\n",
        "\n",
        "arr3 = arr1 + arr2\n",
        "\n",
        "arr3.sort()\n",
        "print(\"Median = \", solution(arr3))"
      ],
      "metadata": {
        "colab": {
          "base_uri": "https://localhost:8080/"
        },
        "id": "-zW7vXZPoXuy",
        "outputId": "91c11297-e86f-487d-89eb-cda3a2f31ef9"
      },
      "execution_count": null,
      "outputs": [
        {
          "output_type": "stream",
          "name": "stdout",
          "text": [
            "Median =  3\n"
          ]
        }
      ]
    },
    {
      "cell_type": "markdown",
      "source": [
        "# **LATIHAN 11**"
      ],
      "metadata": {
        "id": "lewwI6PX3DIa"
      }
    },
    {
      "cell_type": "code",
      "source": [
        "# Slide 44\n",
        "\n",
        "# Floor in sorted array\n",
        "def floorSorted (arr,low, high,x) :\n",
        "  if low > high:\n",
        "    return -1\n",
        "  if arr[low] > x:\n",
        "    return -1\n",
        "  if arr[high] <= x:\n",
        "    return arr[high]\n",
        "\n",
        "  mid=(low+high)//2\n",
        "\n",
        "  if arr[mid]==x:\n",
        "    return arr[mid]\n",
        "  if mid > 0 and x >= arr[mid-1] and arr[mid] > x:\n",
        "    return arr[mid-1]\n",
        "  if mid < high and x < arr[mid+1] and x >= arr[mid]:\n",
        "    return arr[mid]\n",
        "  if x > arr[mid]:\n",
        "    return floorSorted (arr, mid+1, high, x)\n",
        "  else:\n",
        "    return floorSorted (arr, low, mid-1,x)\n",
        "\n",
        "arr = [1, 2, 8, 10, 12, 14, 19]\n",
        "x = 5\n",
        "print(floorSorted(arr, 0, len(arr) - 1, x))"
      ],
      "metadata": {
        "colab": {
          "base_uri": "https://localhost:8080/"
        },
        "id": "BBxp0iAqoXyK",
        "outputId": "c5912134-86d8-4e94-bed3-8f1f9f03daf1"
      },
      "execution_count": null,
      "outputs": [
        {
          "output_type": "stream",
          "name": "stdout",
          "text": [
            "2\n"
          ]
        }
      ]
    },
    {
      "cell_type": "markdown",
      "source": [
        "# **LATIHAN 12**"
      ],
      "metadata": {
        "id": "n7uRcvhG3GJy"
      }
    },
    {
      "cell_type": "code",
      "source": [
        "# Slide 45\n",
        "\n",
        "# Mencari nilai terdekat dengan metode divide dan conquer\n",
        "def closestNumber (arr, low, high, x):\n",
        "  if low > high:\n",
        "    return -1\n",
        "  if arr[high] <= x:\n",
        "    return arr[high]\n",
        "  if arr[low] >= x:\n",
        "    return arr[low]\n",
        "  mid=(low+high)//2\n",
        "  if arr[mid]==x:\n",
        "    return arr[mid]\n",
        "  abs_mid = abs(arr[mid]-x)\n",
        "  if mid > 0:\n",
        "    abs_left = abs(arr [mid-1]-x)\n",
        "    if abs_left < abs_mid:\n",
        "      return closestNumber (arr, low, mid-1,x)\n",
        "  if mid < high:\n",
        "    abs_right = abs(arr[mid+1]-x)\n",
        "    if abs_right < abs_mid:\n",
        "      return closestNumber (arr, mid+1, high, x)\n",
        "  #print ('after')\n",
        "  return arr[mid]\n",
        "\n",
        "arr = [2, 5, 6, 7, 8, 8, 9]\n",
        "x = 9\n",
        "print(closestNumber(arr, 0, len(arr) - 1, x))\n"
      ],
      "metadata": {
        "colab": {
          "base_uri": "https://localhost:8080/"
        },
        "id": "K38iF0LQoX1S",
        "outputId": "0eb3830f-882d-42e3-de50-151515186873"
      },
      "execution_count": null,
      "outputs": [
        {
          "output_type": "stream",
          "name": "stdout",
          "text": [
            "9\n"
          ]
        }
      ]
    },
    {
      "cell_type": "markdown",
      "source": [
        "# **LATIHAN 13**"
      ],
      "metadata": {
        "id": "0wtIXv513IO4"
      }
    },
    {
      "cell_type": "code",
      "source": [
        "# Slide 46\n",
        "\n",
        "def find_closest(lst, k):\n",
        "  lst.sort()\n",
        "  closest_num = lst[0]\n",
        "  for num in lst:\n",
        "    if abs(num - k) < abs(closest_num - k):\n",
        "      closest_num = num\n",
        "    if num > k:\n",
        "      break\n",
        "  return closest_num\n",
        "\n",
        "lst = [3.64, 5.2, 9.42, 9.35, 8.5, 8]\n",
        "k = 9.1\n",
        "print(find_closest(lst, k))\n"
      ],
      "metadata": {
        "colab": {
          "base_uri": "https://localhost:8080/"
        },
        "id": "O0WQ08GHoX4B",
        "outputId": "364c9f6e-5358-4421-8ab4-7f8e21a9fc26"
      },
      "execution_count": null,
      "outputs": [
        {
          "output_type": "stream",
          "name": "stdout",
          "text": [
            "9.35\n"
          ]
        }
      ]
    },
    {
      "cell_type": "code",
      "source": [
        "lst = [2, 5, 5, 7, 8, 8, 9]\n",
        "k = 6\n",
        "print(find_closest(lst, k))"
      ],
      "metadata": {
        "colab": {
          "base_uri": "https://localhost:8080/"
        },
        "id": "48vIUOqqrvFM",
        "outputId": "8d4d9e95-db3d-408d-dd70-cbeb081fccd6"
      },
      "execution_count": null,
      "outputs": [
        {
          "output_type": "stream",
          "name": "stdout",
          "text": [
            "5\n"
          ]
        }
      ]
    },
    {
      "cell_type": "markdown",
      "source": [
        "# **LATIHAN 14**"
      ],
      "metadata": {
        "id": "v88Bh4Xz3ODX"
      }
    },
    {
      "cell_type": "code",
      "source": [
        "# Slide 47\n",
        "\n",
        "def fixedPoint(arr, low, high):\n",
        "  if low > high:\n",
        "    return -1\n",
        "  if arr[high] == high:\n",
        "    return arr[high]\n",
        "  if arr[low] == low:\n",
        "    return arr[low]\n",
        "  mid = (low + high) // 2\n",
        "  if arr[mid] == mid:\n",
        "    return arr[mid]\n",
        "  if mid > arr[mid]:\n",
        "    return fixedPoint(arr, mid + 1, high)\n",
        "  else:\n",
        "    return fixedPoint(arr, low, mid - 1)\n",
        "\n",
        "arr = [9, 1, 4, 5, 2]\n",
        "print(fixedPoint(arr, 0 , len(arr) - 1))"
      ],
      "metadata": {
        "colab": {
          "base_uri": "https://localhost:8080/"
        },
        "id": "cpw49xqFoX7S",
        "outputId": "dbea449c-03f5-4970-969e-a8229717ada7"
      },
      "execution_count": null,
      "outputs": [
        {
          "output_type": "stream",
          "name": "stdout",
          "text": [
            "1\n"
          ]
        }
      ]
    }
  ]
}