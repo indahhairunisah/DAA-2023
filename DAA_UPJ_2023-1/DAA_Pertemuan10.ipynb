{
  "nbformat": 4,
  "nbformat_minor": 0,
  "metadata": {
    "colab": {
      "provenance": []
    },
    "kernelspec": {
      "name": "python3",
      "display_name": "Python 3"
    },
    "language_info": {
      "name": "python"
    }
  },
  "cells": [
    {
      "cell_type": "markdown",
      "source": [
        "**Nama: Indah Hairunisah**\n",
        "\n",
        "**NIM: 2022071025**"
      ],
      "metadata": {
        "id": "dV_lMxuT9NCb"
      }
    },
    {
      "cell_type": "code",
      "source": [
        "pip install pulp"
      ],
      "metadata": {
        "colab": {
          "base_uri": "https://localhost:8080/"
        },
        "id": "bjmvxS_7vEXv",
        "outputId": "4a2bdf45-d0c2-41b9-ec43-022f022ad86f"
      },
      "execution_count": 5,
      "outputs": [
        {
          "output_type": "stream",
          "name": "stdout",
          "text": [
            "Requirement already satisfied: pulp in /usr/local/lib/python3.10/dist-packages (2.7.0)\n"
          ]
        }
      ]
    },
    {
      "cell_type": "code",
      "source": [
        "#Slide 12-15\n",
        "import pulp\n",
        "\n",
        "#Instantie our problem class\n",
        "model = pulp.LpProblem(\"ProfitMaximisingProblem\", pulp.LpMaximize)\n",
        "A = pulp.LpVariable('A', lowBound=0, cat='Integer')\n",
        "B = pulp.LpVariable('B', lowBound=0, cat='Integer')\n",
        "\n",
        "# Objective function\n",
        "model += 4200 * A + 2800 * B, \"Profit\"\n",
        "#Constraints\n",
        "model += 3 * A + 2 * B <= 20\n",
        "model += 4 * A + 3 * B <= 30\n",
        "model += 4 * A + 3 * B <= 44\n",
        "\n",
        "# Solve our problem\n",
        "model.solve()\n",
        "pulp.LpStatus[model.status]\n",
        "\n",
        "# Print our decision\n",
        "print(A.varValue)\n",
        "print(B.varValue)\n",
        "\n",
        "# Print our objective function value\n",
        "print(pulp.value(model.objective))"
      ],
      "metadata": {
        "colab": {
          "base_uri": "https://localhost:8080/"
        },
        "id": "u8kxdUGFwdd0",
        "outputId": "c4ce5f01-5aff-49d5-dcc0-67e3275ebf39"
      },
      "execution_count": 7,
      "outputs": [
        {
          "output_type": "stream",
          "name": "stdout",
          "text": [
            "6.0\n",
            "1.0\n",
            "28000.0\n"
          ]
        }
      ]
    },
    {
      "cell_type": "markdown",
      "source": [
        "**`Latihan 1`**\n",
        "\n",
        "---\n",
        "\n"
      ],
      "metadata": {
        "id": "-4Z1MS5XvofA"
      }
    },
    {
      "cell_type": "code",
      "source": [
        "#Slide 16 dan 18\n",
        "import pulp\n",
        "# 4x + 3y = 34\n",
        "# Membuat objek masalah optimasi\n",
        "model = pulp.LpProblem(name=\"Pemecahan_Persamaan\", sense=pulp.LpMinimize)\n",
        "\n",
        "# Membuat variabel x dan y\n",
        "x = pulp.LpVariable(name=\"x\")\n",
        "y = pulp.LpVariable(name=\"y\")\n",
        "\n",
        "# Menambahkan batasan\n",
        "model += 4 * x + 3 * y == 34\n",
        "\n",
        "# Menyelesaikan masalah\n",
        "model.solve()\n",
        "\n",
        "# Menampilkan hasil\n",
        "print(\"Status: \", model.status)\n",
        "print(\"Nilai x = \", x.varValue)\n",
        "print(\"Nilai y = \", y.varValue)"
      ],
      "metadata": {
        "colab": {
          "base_uri": "https://localhost:8080/"
        },
        "id": "_Fn-av5pY6LT",
        "outputId": "fb9436a3-4bf4-413e-f898-f82eb8d51ddf"
      },
      "execution_count": 6,
      "outputs": [
        {
          "output_type": "stream",
          "name": "stdout",
          "text": [
            "Status:  1\n",
            "Nilai x =  8.5\n",
            "Nilai y =  0.0\n"
          ]
        }
      ]
    },
    {
      "cell_type": "markdown",
      "source": [
        "**Latihan 2**\n",
        "\n",
        "---\n",
        "\n"
      ],
      "metadata": {
        "id": "mdJxnaWcxC4x"
      }
    },
    {
      "cell_type": "code",
      "source": [
        "#Slide 16 dan 19\n",
        "\n",
        "import pulp\n",
        "# 5x + y = 37\n",
        "# Membuat objek masalah optimasi\n",
        "model = pulp.LpProblem(name=\"Pemecahan_Persamaan\", sense=pulp.LpMinimize)\n",
        "\n",
        "# Membuat variabel x dan y\n",
        "x = pulp.LpVariable(name=\"x\")\n",
        "y = pulp.LpVariable(name=\"y\")\n",
        "\n",
        "# Menambahkan batasan\n",
        "model += 5 * x + y == 37\n",
        "\n",
        "# Menyelesaikan masalah\n",
        "model.solve()\n",
        "\n",
        "# Menampilkan hasil\n",
        "print(\"Status: \", model.status)\n",
        "print(\"Nilai x = \", x.varValue)\n",
        "print(\"Nilai y = \", y.varValue)"
      ],
      "metadata": {
        "colab": {
          "base_uri": "https://localhost:8080/"
        },
        "id": "unz3cfWgZcku",
        "outputId": "138004b2-7188-47df-bbc2-33e52e96b18d"
      },
      "execution_count": null,
      "outputs": [
        {
          "output_type": "stream",
          "name": "stdout",
          "text": [
            "Status:  1\n",
            "Nilai x =  7.4\n",
            "Nilai y =  0.0\n"
          ]
        }
      ]
    },
    {
      "cell_type": "code",
      "execution_count": null,
      "metadata": {
        "colab": {
          "base_uri": "https://localhost:8080/"
        },
        "id": "fpygSM-c9DZ_",
        "outputId": "b30f633f-b8b9-4c45-aced-662f9ec134db"
      },
      "outputs": [
        {
          "output_type": "stream",
          "name": "stdout",
          "text": [
            "Status:  1\n",
            "Nilai x =  8.5\n",
            "Nilai y =  0.0\n"
          ]
        }
      ],
      "source": [
        "#Slide 18\n",
        "\n",
        "#4x + 3y = 34\n",
        "import pulp\n",
        "\n",
        "# Membuat objek masalah optimasi\n",
        "model = pulp.LpProblem(name=\"Pemecahan_Persamaan\", sense=pulp.LpMinimize)\n",
        "\n",
        "# Membuat variabel x dan y\n",
        "x = pulp.LpVariable(name=\"x\")\n",
        "y = pulp.LpVariable(name=\"y\")\n",
        "\n",
        "# Menambahkan batasan\n",
        "model += 4 * x + 3 * y == 34\n",
        "\n",
        "# Menyelesaikan masalah\n",
        "model.solve()\n",
        "\n",
        "# Menampilkan hasil\n",
        "print(\"Status: \", model.status)\n",
        "print(\"Nilai x = \", x.varValue)\n",
        "print(\"Nilai y = \", y.varValue)"
      ]
    },
    {
      "cell_type": "code",
      "source": [
        "#Slide 20\n",
        "#Soal Cerita 1\n",
        "\n",
        "import pulp\n",
        "\n",
        "# Membuat objek masalah optimasi\n",
        "model = pulp.LpProblem(name=\"Pemecahan_Persamaan\", sense=pulp.LpMinimize)\n",
        "\n",
        "# Membuat variabel x dan y\n",
        "x = pulp.LpVariable(name=\"x\")\n",
        "y = pulp.LpVariable(name=\"y\")\n",
        "\n",
        "# Menambahkan batasan\n",
        "model += 3 * x + 4 * y == 11000\n",
        "model += 1 * x + 7 * y == 15000\n",
        "\n",
        "# Menyelesaikan masalah\n",
        "model.solve()\n",
        "\n",
        "# x.varValue += 500\n",
        "\n",
        "# Menampilkan hasil\n",
        "print(\"Status: \", model.status)\n",
        "print(\"Nilai x = \", x.varValue)\n",
        "print(\"Nilai y = \", y.varValue)"
      ],
      "metadata": {
        "colab": {
          "base_uri": "https://localhost:8080/"
        },
        "id": "H6TAUJLBZyew",
        "outputId": "3b6b1fa2-352d-40d7-e7f2-3ded1cfb5d98"
      },
      "execution_count": null,
      "outputs": [
        {
          "output_type": "stream",
          "name": "stdout",
          "text": [
            "Status:  1\n",
            "Nilai x =  1000.0\n",
            "Nilai y =  2000.0\n"
          ]
        }
      ]
    },
    {
      "cell_type": "code",
      "source": [
        "#Slide 22\n",
        "#Soal Cerita 2\n",
        "\n",
        "import pulp\n",
        "\n",
        "# Membuat objek masalah optimasi\n",
        "model = pulp.LpProblem(name=\"Pemecahan_Persamaan\", sense=pulp.LpMinimize)\n",
        "\n",
        "# Membuat variabel x dan y\n",
        "x = pulp.LpVariable(name=\"x\")\n",
        "y = pulp.LpVariable(name=\"y\")\n",
        "\n",
        "# Menambahkan batasan\n",
        "model += 2 * x + 2 * y == 44    # Rumus keliling persegi panjang\n",
        "model += x - y == 6             # Ketentuan lebar lebih pendek 6 cm dari panjangnya\n",
        "\n",
        "# Menyelesaikan masalah\n",
        "model.solve()\n",
        "\n",
        "# Menampilkan hasil\n",
        "print(\"Status: \", model.status)\n",
        "print(\"Nilai x = \", x.varValue)\n",
        "print(\"Nilai y = \", y.varValue)"
      ],
      "metadata": {
        "colab": {
          "base_uri": "https://localhost:8080/"
        },
        "id": "7jFjpgjWaCCl",
        "outputId": "7b40731e-ae1f-4733-bfd7-3881d77cff49"
      },
      "execution_count": null,
      "outputs": [
        {
          "output_type": "stream",
          "name": "stdout",
          "text": [
            "Status:  1\n",
            "Nilai x =  14.0\n",
            "Nilai y =  8.0\n"
          ]
        }
      ]
    },
    {
      "cell_type": "code",
      "source": [
        "#Slide 27-31\n",
        "\n",
        "'''\n",
        "max z = 5x1 + 7x2 dimana\n",
        "1x1 + 0x2 <= 16, 2x1 + 3x2 <= 19, 1x1 + 1x2 <= 8,\n",
        "x1, x2 >= 0\n",
        "'''\n",
        "import numpy as np\n",
        "from scipy.optimize import linprog\n",
        "\n",
        "# Set the inequality constraints matrix\n",
        "# Note: The inequality constraints must be in the form of <=\n",
        "A = np.array([[1,0], [2,3], [1,1], [-1,0], [0,-1]])\n",
        "\n",
        "# Hasil pertidaksamaan (Angka di sisi kanan)\n",
        "b = np.array([16, 19, 8, 0, 0])\n",
        "\n",
        "# Set the coefficients of the linear objective function vector\n",
        "# Note: when maximizing, change the signs of the c vector coefficient\n",
        "c = np.array([-5, -7])\n",
        "\n",
        "# Solve linear programming problem\n",
        "res = linprog(c, A_ub = A, b_ub = b)\n",
        "# Print results (Slide 31)\n",
        "print('Optimal value:', round(res.fun*-1, ndigits=2),\n",
        "      '\\nx values:', res.x,\n",
        "      '\\nNumber of iterations performed:', res.nit,\n",
        "      '\\nStatus:', res.message)"
      ],
      "metadata": {
        "colab": {
          "base_uri": "https://localhost:8080/"
        },
        "id": "p9xftS-Ra6fH",
        "outputId": "df513ce8-4358-4c0a-d9e9-19f1c42daf4f"
      },
      "execution_count": null,
      "outputs": [
        {
          "output_type": "stream",
          "name": "stdout",
          "text": [
            "Optimal value: 46.0 \n",
            "x values: [5. 3.] \n",
            "Number of iterations performed: 3 \n",
            "Status: Optimization terminated successfully. (HiGHS Status 7: Optimal)\n"
          ]
        }
      ]
    },
    {
      "cell_type": "code",
      "source": [
        "#Slide 32\n",
        "\n",
        "# 1. Impor modul yang diperlukan dari Scipy:\n",
        "\n",
        "from scipy.optimize import linprog\n",
        "\n",
        "# 2. Tentukan koefisien fungsi tujuan dan matriks batasan:\n",
        "# Koefisien fungsi tujuan (Z = 5x1 + 7x2)\n",
        "\n",
        "c = [-5, -7] # Karena kita ingin \"maksimalkan\" -5x1 - 7x2, maka perlu diubah menjadi \"-5\" dan \"-7\".\n",
        "\n",
        "# Koefisien matriks batasan\n",
        "A = [\n",
        "    [1,0], # 1x1 + 0x2 <= 16\n",
        "    [2,3], # 2x1 + 3x2 <= 19\n",
        "    [1,1]  # 1x1 + 1x2 <= 8\n",
        "]\n",
        "# Batasan kanan (rhs) dari masing-masing batasan\n",
        "b = [16, 19, 8]\n",
        "\n",
        "# 3. Tentukan batasan variabel x1 dan x2 sebagai variabel non-negatif:\n",
        "x1_bounds = (0, None) # x1 >= 0\n",
        "x2_bounds = (0, None) # x2 >= 0\n",
        "\n",
        "# 4. Gunakan linprog untuk menyelesaikan masalah pemrograman linier:\n",
        "result = linprog(c, A_ub=A, b_ub=b, bounds=[x1_bounds, x2_bounds], method=\"highs\")\n",
        "\n",
        "# 5. Tampilkan hasilnya\n",
        "# Hasil optimasi\n",
        "print(\"Optimal Solution:\")\n",
        "print(\"x1 =\", result.x[0])\n",
        "print(\"x2 =\", result.x[1])\n",
        "print(\"Max Z =\", -result.fun) # Karena tujuannya adalah memaksimalkan -Z"
      ],
      "metadata": {
        "colab": {
          "base_uri": "https://localhost:8080/"
        },
        "id": "cYo3yi3obWvL",
        "outputId": "60a869d0-89db-4ef9-c222-4147ec291edc"
      },
      "execution_count": null,
      "outputs": [
        {
          "output_type": "stream",
          "name": "stdout",
          "text": [
            "Optimal Solution:\n",
            "x1 = 5.0\n",
            "x2 = 3.0\n",
            "Max Z = 46.0\n"
          ]
        }
      ]
    },
    {
      "cell_type": "markdown",
      "source": [
        "**Latihan 1 dengan Scipy**\n",
        "\n",
        "---\n",
        "\n"
      ],
      "metadata": {
        "id": "JFhsGosfAixe"
      }
    },
    {
      "cell_type": "code",
      "source": [
        "#Slide 33\n",
        "#Latihan 1\n",
        "\n",
        "import pulp\n",
        "\n",
        "# Membuat objek masalah optimasi\n",
        "model = pulp.LpProblem(name=\"Pemecahan_Persamaan\", sense=pulp.LpMinimize)\n",
        "\n",
        "# Membuat variabel x dan y\n",
        "x = pulp.LpVariable(name=\"x\")\n",
        "y = pulp.LpVariable(name=\"y\")\n",
        "\n",
        "# Menambahkan batasan\n",
        "model += 4 * x + 12 * y == 28\n",
        "\n",
        "# Menyelesaikan masalah\n",
        "model.solve()\n",
        "\n",
        "# Menampilkan hasil\n",
        "print(\"Status: \", model.status)\n",
        "print(\"Nilai x = \", x.varValue)\n",
        "print(\"Nilai y = \", y.varValue)"
      ],
      "metadata": {
        "colab": {
          "base_uri": "https://localhost:8080/"
        },
        "id": "3GlA2jH_bhZe",
        "outputId": "8001da9e-62c6-4ad8-fb30-65df9401edc8"
      },
      "execution_count": null,
      "outputs": [
        {
          "output_type": "stream",
          "name": "stdout",
          "text": [
            "Status:  1\n",
            "Nilai x =  7.0\n",
            "Nilai y =  0.0\n"
          ]
        }
      ]
    },
    {
      "cell_type": "markdown",
      "source": [
        "**Latihan 2 dengan Scipy**\n",
        "\n",
        "---\n",
        "\n"
      ],
      "metadata": {
        "id": "3_Gv7CLiArzS"
      }
    },
    {
      "cell_type": "code",
      "source": [
        "#Slide 33\n",
        "#Latihan 2\n",
        "\n",
        "import pulp\n",
        "\n",
        "# Membuat objek masalah optimasi\n",
        "model = pulp.LpProblem(name=\"Pemecahan_Persamaan\", sense=pulp.LpMinimize)\n",
        "\n",
        "# Membuat variabel x dan y\n",
        "x = pulp.LpVariable(name=\"x\")\n",
        "y = pulp.LpVariable(name=\"y\")\n",
        "\n",
        "# Menambahkan batasan\n",
        "model += 2 * x + y == 21\n",
        "\n",
        "# Menyelesaikan masalah\n",
        "model.solve()\n",
        "\n",
        "# Menampilkan hasil\n",
        "print(\"Status: \", model.status)\n",
        "print(\"Nilai x = \", x.varValue)\n",
        "print(\"Nilai y = \", y.varValue)"
      ],
      "metadata": {
        "colab": {
          "base_uri": "https://localhost:8080/"
        },
        "id": "bSf4dp3qb7Yh",
        "outputId": "cf5c7952-7709-4d1b-a6fa-56591a7e477e"
      },
      "execution_count": null,
      "outputs": [
        {
          "output_type": "stream",
          "name": "stdout",
          "text": [
            "Status:  1\n",
            "Nilai x =  10.5\n",
            "Nilai y =  0.0\n"
          ]
        }
      ]
    },
    {
      "cell_type": "markdown",
      "source": [
        "**Latihan 3 dengan Scipy**"
      ],
      "metadata": {
        "id": "AlSEoBDvAu8B"
      }
    },
    {
      "cell_type": "code",
      "source": [
        "#Slide 33\n",
        "#Latihan 3\n",
        "\n",
        "import pulp\n",
        "\n",
        "# Membuat objek masalah optimasi\n",
        "model = pulp.LpProblem(name=\"Pemecahan_Persamaan\", sense=pulp.LpMinimize)\n",
        "\n",
        "# Membuat variabel x dan y\n",
        "x = pulp.LpVariable(name=\"x\")\n",
        "y = pulp.LpVariable(name=\"y\")\n",
        "\n",
        "# Menambahkan batasan\n",
        "model += 3 * x + 4 * y == 55\n",
        "model += x + y == 16\n",
        "\n",
        "# Menyelesaikan masalah\n",
        "model.solve()\n",
        "\n",
        "# Menampilkan hasil\n",
        "print(\"Status: \", model.status)\n",
        "print(\"Nilai x = \", x.varValue) # Lisa = 9 jam\n",
        "print(\"Nilai y = \", y.varValue) # Muri = 6 jam\n",
        "\n",
        "print(\"\\nJam kerja masing-masing:\\nLisa =\", x.varValue, \"jam\")\n",
        "print(\"Muri =\", y.varValue, \"jam\")"
      ],
      "metadata": {
        "colab": {
          "base_uri": "https://localhost:8080/"
        },
        "id": "TkhatP85cPL3",
        "outputId": "f3bc43a4-ab0d-4286-f367-23054cece218"
      },
      "execution_count": null,
      "outputs": [
        {
          "output_type": "stream",
          "name": "stdout",
          "text": [
            "Status:  1\n",
            "Nilai x =  9.0\n",
            "Nilai y =  7.0\n",
            "\n",
            "Jam kerja masing-masing:\n",
            "Lisa = 9.0 jam\n",
            "Muri = 7.0 jam\n"
          ]
        }
      ]
    }
  ]
}