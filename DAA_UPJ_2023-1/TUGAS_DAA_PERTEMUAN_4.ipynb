{
  "nbformat": 4,
  "nbformat_minor": 0,
  "metadata": {
    "colab": {
      "provenance": []
    },
    "kernelspec": {
      "name": "python3",
      "display_name": "Python 3"
    },
    "language_info": {
      "name": "python"
    }
  },
  "cells": [
    {
      "cell_type": "code",
      "execution_count": null,
      "metadata": {
        "colab": {
          "base_uri": "https://localhost:8080/"
        },
        "id": "joPBLeTG7CXR",
        "outputId": "24f03974-d9d6-43cb-c6cb-1ee120c7dd9f"
      },
      "outputs": [
        {
          "output_type": "stream",
          "name": "stdout",
          "text": [
            "2 1\n"
          ]
        }
      ],
      "source": [
        "# Swap\n",
        "var1 = 1\n",
        "var2 = 2\n",
        "var1, var2 = var2, var1\n",
        "\n",
        "print(var1, var2)"
      ]
    },
    {
      "cell_type": "code",
      "source": [
        "# fungsi swap variabel ketiga\n",
        "var1 = 1\n",
        "var2 = 2\n",
        "var3 = 3\n",
        "\n",
        "var1, var2, var3 = var1, var2, var3\n",
        "print (var1, var2, var3)"
      ],
      "metadata": {
        "colab": {
          "base_uri": "https://localhost:8080/"
        },
        "id": "9z94ADhnA13y",
        "outputId": "0c0ae1ff-d4de-48d6-f9fb-fb8bf9828bc4"
      },
      "execution_count": null,
      "outputs": [
        {
          "output_type": "stream",
          "name": "stdout",
          "text": [
            "1 2 3\n"
          ]
        }
      ]
    },
    {
      "cell_type": "code",
      "source": [
        "# Menukar Posisi\n",
        "var3 = var1\n",
        "var1 = var2\n",
        "var2 = var3\n",
        "\n",
        "print(var1, var2)"
      ],
      "metadata": {
        "colab": {
          "base_uri": "https://localhost:8080/"
        },
        "id": "Bj5nCvboBXpw",
        "outputId": "e1fa776c-46ab-49ca-c89b-79873ed5a550"
      },
      "execution_count": null,
      "outputs": [
        {
          "output_type": "stream",
          "name": "stdout",
          "text": [
            "2 1\n"
          ]
        }
      ]
    },
    {
      "cell_type": "code",
      "source": [
        "# Bubble Sort\n",
        "list1 = [25, 21, 22, 24, 23, 27, 26]\n",
        "\n",
        "def BubbleSort(myList):\n",
        "  lastElementIndex = len(myList)-1\n",
        "  print(0, myList)\n",
        "  for passNo in range(lastElementIndex, 0, -1):\n",
        "    for idx in range (passNo):\n",
        "      if myList[idx] > myList[idx + 1]:\n",
        "        myList[idx], myList[idx + 1] = myList[idx + 1], myList[idx]\n",
        "      print(idx + 1, myList)\n",
        "  return myList\n",
        "\n",
        "BubbleSort(list1)"
      ],
      "metadata": {
        "colab": {
          "base_uri": "https://localhost:8080/"
        },
        "id": "MycQmlHHBiI7",
        "outputId": "c0de412c-9a8e-4ae4-fd25-b3f97606f8b2"
      },
      "execution_count": null,
      "outputs": [
        {
          "output_type": "stream",
          "name": "stdout",
          "text": [
            "0 [25, 21, 22, 24, 23, 27, 26]\n",
            "1 [21, 25, 22, 24, 23, 27, 26]\n",
            "2 [21, 22, 25, 24, 23, 27, 26]\n",
            "3 [21, 22, 24, 25, 23, 27, 26]\n",
            "4 [21, 22, 24, 23, 25, 27, 26]\n",
            "5 [21, 22, 24, 23, 25, 27, 26]\n",
            "6 [21, 22, 24, 23, 25, 26, 27]\n",
            "1 [21, 22, 24, 23, 25, 26, 27]\n",
            "2 [21, 22, 24, 23, 25, 26, 27]\n",
            "3 [21, 22, 23, 24, 25, 26, 27]\n",
            "4 [21, 22, 23, 24, 25, 26, 27]\n",
            "5 [21, 22, 23, 24, 25, 26, 27]\n",
            "1 [21, 22, 23, 24, 25, 26, 27]\n",
            "2 [21, 22, 23, 24, 25, 26, 27]\n",
            "3 [21, 22, 23, 24, 25, 26, 27]\n",
            "4 [21, 22, 23, 24, 25, 26, 27]\n",
            "1 [21, 22, 23, 24, 25, 26, 27]\n",
            "2 [21, 22, 23, 24, 25, 26, 27]\n",
            "3 [21, 22, 23, 24, 25, 26, 27]\n",
            "1 [21, 22, 23, 24, 25, 26, 27]\n",
            "2 [21, 22, 23, 24, 25, 26, 27]\n",
            "1 [21, 22, 23, 24, 25, 26, 27]\n"
          ]
        },
        {
          "output_type": "execute_result",
          "data": {
            "text/plain": [
              "[21, 22, 23, 24, 25, 26, 27]"
            ]
          },
          "metadata": {},
          "execution_count": 21
        }
      ]
    },
    {
      "cell_type": "code",
      "source": [
        "# Latihan Bubble Sort\n",
        "list2 = [100, 20, 60, 90, 40, 30, 10]\n",
        "\n",
        "def latihanBubbleSort(myList):\n",
        "  lastElementIndex = len(myList)-1\n",
        "  print(0, myList)\n",
        "  for passNo in range(lastElementIndex, 0, -1):\n",
        "    for idx in range (passNo):\n",
        "      if myList[idx] > myList[idx + 1]:\n",
        "        myList[idx], myList[idx + 1] = myList[idx + 1], myList[idx]\n",
        "      print(idx + 1, myList)\n",
        "  return myList\n",
        "\n",
        "latihanBubbleSort(list2)"
      ],
      "metadata": {
        "colab": {
          "base_uri": "https://localhost:8080/"
        },
        "id": "2FkCmYI_BiGf",
        "outputId": "e7e0d35c-6b42-4802-d333-1a7d46bc8387"
      },
      "execution_count": null,
      "outputs": [
        {
          "output_type": "stream",
          "name": "stdout",
          "text": [
            "0 [100, 20, 60, 90, 40, 30, 10]\n",
            "1 [20, 100, 60, 90, 40, 30, 10]\n",
            "2 [20, 60, 100, 90, 40, 30, 10]\n",
            "3 [20, 60, 90, 100, 40, 30, 10]\n",
            "4 [20, 60, 90, 40, 100, 30, 10]\n",
            "5 [20, 60, 90, 40, 30, 100, 10]\n",
            "6 [20, 60, 90, 40, 30, 10, 100]\n",
            "1 [20, 60, 90, 40, 30, 10, 100]\n",
            "2 [20, 60, 90, 40, 30, 10, 100]\n",
            "3 [20, 60, 40, 90, 30, 10, 100]\n",
            "4 [20, 60, 40, 30, 90, 10, 100]\n",
            "5 [20, 60, 40, 30, 10, 90, 100]\n",
            "1 [20, 60, 40, 30, 10, 90, 100]\n",
            "2 [20, 40, 60, 30, 10, 90, 100]\n",
            "3 [20, 40, 30, 60, 10, 90, 100]\n",
            "4 [20, 40, 30, 10, 60, 90, 100]\n",
            "1 [20, 40, 30, 10, 60, 90, 100]\n",
            "2 [20, 30, 40, 10, 60, 90, 100]\n",
            "3 [20, 30, 10, 40, 60, 90, 100]\n",
            "1 [20, 30, 10, 40, 60, 90, 100]\n",
            "2 [20, 10, 30, 40, 60, 90, 100]\n",
            "1 [10, 20, 30, 40, 60, 90, 100]\n"
          ]
        },
        {
          "output_type": "execute_result",
          "data": {
            "text/plain": [
              "[10, 20, 30, 40, 60, 90, 100]"
            ]
          },
          "metadata": {},
          "execution_count": 22
        }
      ]
    },
    {
      "cell_type": "code",
      "source": [
        "# Insertion Sort\n",
        "def InsertionSort(myList):\n",
        "  for i in range (1, len(myList)):\n",
        "    j = i - 1\n",
        "    next = myList[i]\n",
        "\n",
        "    while (myList[j] > next) and (j >= 0):\n",
        "      myList[j + 1] = myList [j]\n",
        "      j = j - 1\n",
        "      myList[j + 1] = next\n",
        "  return myList\n",
        "\n",
        "listInsert = [35, 31, 32, 34, 33 ,37, 36]\n",
        "print(listInsert)\n",
        "InsertionSort(listInsert)"
      ],
      "metadata": {
        "colab": {
          "base_uri": "https://localhost:8080/"
        },
        "id": "c0MzFfA4BiDn",
        "outputId": "17fc9673-b26b-4b5f-a7a7-d448cf348fc0"
      },
      "execution_count": null,
      "outputs": [
        {
          "output_type": "stream",
          "name": "stdout",
          "text": [
            "[35, 31, 32, 34, 33, 37, 36]\n"
          ]
        },
        {
          "output_type": "execute_result",
          "data": {
            "text/plain": [
              "[31, 32, 33, 34, 35, 36, 37]"
            ]
          },
          "metadata": {},
          "execution_count": 23
        }
      ]
    },
    {
      "cell_type": "code",
      "source": [
        "# Latihan Insertion Sort\n",
        "def latihanInsertionSort(myList):\n",
        "  for i in range (1, len(myList)):\n",
        "    j = i - 1\n",
        "    next = myList[i]\n",
        "\n",
        "    while (myList[j] > next) and (j >= 0):\n",
        "      myList[j + 1] = myList [j]\n",
        "      j = j - 1\n",
        "      myList[j + 1] = next\n",
        "  return myList\n",
        "\n",
        "listLatihanInsertion = [89, 12, 57, 16,25, 11, 75]\n",
        "print(listLatihanInsertion)\n",
        "latihanInsertionSort(listLatihanInsertion)"
      ],
      "metadata": {
        "colab": {
          "base_uri": "https://localhost:8080/"
        },
        "id": "dCviapVgBiAy",
        "outputId": "fd12d91d-2ac7-492d-83fa-304b11aaac3a"
      },
      "execution_count": null,
      "outputs": [
        {
          "output_type": "stream",
          "name": "stdout",
          "text": [
            "[89, 12, 57, 16, 25, 11, 75]\n"
          ]
        },
        {
          "output_type": "execute_result",
          "data": {
            "text/plain": [
              "[11, 12, 16, 25, 57, 75, 89]"
            ]
          },
          "metadata": {},
          "execution_count": 24
        }
      ]
    },
    {
      "cell_type": "code",
      "source": [
        "# Selection Sort\n",
        "def SelectionSort(myList):\n",
        "  for fill_slot in range(len(myList) - 1, 0, -1):\n",
        "    max_index = 0\n",
        "    for location in range(1, fill_slot + 1):\n",
        "      if myList[location] > myList[max_index]:\n",
        "        max_index = location\n",
        "    myList[fill_slot], myList[max_index] = myList[max_index], myList[fill_slot]\n",
        "  return myList\n",
        "\n",
        "listSelection = [70, 15, 25, 19, 34, 44]\n",
        "print(listSelection)\n",
        "SelectionSort(listSelection)"
      ],
      "metadata": {
        "colab": {
          "base_uri": "https://localhost:8080/"
        },
        "id": "w76sRZqCBh-B",
        "outputId": "c43524cf-3ecb-4d07-9f54-57e4a5ec8cfa"
      },
      "execution_count": null,
      "outputs": [
        {
          "output_type": "stream",
          "name": "stdout",
          "text": [
            "[70, 15, 25, 19, 34, 44]\n"
          ]
        },
        {
          "output_type": "execute_result",
          "data": {
            "text/plain": [
              "[15, 19, 25, 34, 44, 70]"
            ]
          },
          "metadata": {},
          "execution_count": 25
        }
      ]
    },
    {
      "cell_type": "code",
      "source": [
        "# Latihan Selection Sort\n",
        "def SelectionSort(myList):\n",
        "  for fill_slot in range(len(myList) - 1, 0, -1):\n",
        "    max_index = 0\n",
        "    for location in range(1, fill_slot + 1):\n",
        "      if myList[location] > myList[max_index]:\n",
        "        max_index = location\n",
        "    myList[fill_slot], myList[max_index] = myList[max_index], myList[fill_slot]\n",
        "  return myList\n",
        "\n",
        "listLatihanSelection = [89, 12,57, 16, 25]\n",
        "print(listLatihanSelection)\n",
        "SelectionSort(listLatihanSelection)"
      ],
      "metadata": {
        "colab": {
          "base_uri": "https://localhost:8080/"
        },
        "id": "YmNrE75IBh7g",
        "outputId": "86c6540a-4cee-4e78-8aed-aba998083fbe"
      },
      "execution_count": null,
      "outputs": [
        {
          "output_type": "stream",
          "name": "stdout",
          "text": [
            "[89, 12, 57, 16, 25]\n"
          ]
        },
        {
          "output_type": "execute_result",
          "data": {
            "text/plain": [
              "[12, 16, 25, 57, 89]"
            ]
          },
          "metadata": {},
          "execution_count": 26
        }
      ]
    },
    {
      "cell_type": "code",
      "source": [
        "# Linear Search\n",
        "def LinearSearch(myList, item):\n",
        "  index = 0\n",
        "  found = False\n",
        "\n",
        "  while index < len(myList) and found is False:\n",
        "    if myList[index] == item:\n",
        "      found = True\n",
        "    else:\n",
        "      index = index + 1\n",
        "  return found\n",
        "\n",
        "listLinear = [12, 33, 11, 99, 22, 55, 90]\n",
        "print(listLinear)\n",
        "print(LinearSearch(listLinear, 12))\n",
        "print(LinearSearch(listLinear, 91))"
      ],
      "metadata": {
        "colab": {
          "base_uri": "https://localhost:8080/"
        },
        "id": "joF9zP6gBh3T",
        "outputId": "012aeb8d-8d8d-403a-801c-cb638f602e30"
      },
      "execution_count": null,
      "outputs": [
        {
          "output_type": "stream",
          "name": "stdout",
          "text": [
            "[12, 33, 11, 99, 22, 55, 90]\n",
            "True\n",
            "False\n"
          ]
        }
      ]
    },
    {
      "cell_type": "code",
      "source": [
        "# Latihan Linear Search\n",
        "def latihanLinearSearch(myList, item):\n",
        "  index = 0\n",
        "  found = False\n",
        "\n",
        "  while index < len(myList) and found is False:\n",
        "    if myList[index] == item:\n",
        "      found = True\n",
        "    else:\n",
        "      index = index + 1\n",
        "  return found\n",
        "\n",
        "latihanLinear = ['y', 'u', 'i', 'w', 'o', 'a', 'q', 'u', 'j', 'p',]\n",
        "print(latihanLinearSearch(latihanLinear, 'a'))"
      ],
      "metadata": {
        "colab": {
          "base_uri": "https://localhost:8080/"
        },
        "id": "arl0aOfiBh0O",
        "outputId": "095cdc5d-f466-4095-9397-d9aa5eb1c76b"
      },
      "execution_count": null,
      "outputs": [
        {
          "output_type": "stream",
          "name": "stdout",
          "text": [
            "True\n"
          ]
        }
      ]
    },
    {
      "cell_type": "code",
      "source": [
        "# Binary Search\n",
        "def BinarySearch(myList, item):\n",
        "  first = 0\n",
        "  last = len(myList) - 1\n",
        "  found = False\n",
        "\n",
        "  while first <= last and not found:\n",
        "    midpoint = (first + last) // 2\n",
        "    if myList[midpoint] == item:\n",
        "      found = True\n",
        "    else:\n",
        "      if item < myList[midpoint]:\n",
        "        last = midpoint - 1\n",
        "      else:\n",
        "        first = midpoint + 1\n",
        "  return found\n",
        "\n",
        "listBinary = [12, 33, 11, 99, 22, 55, 90]\n",
        "print(BinarySearch(listBinary, 12))\n",
        "print(BinarySearch(listBinary, 91))"
      ],
      "metadata": {
        "colab": {
          "base_uri": "https://localhost:8080/"
        },
        "id": "iE8ef8bhBhxE",
        "outputId": "b8b4271f-4a37-4e4f-f873-1d0465dc532c"
      },
      "execution_count": null,
      "outputs": [
        {
          "output_type": "stream",
          "name": "stdout",
          "text": [
            "True\n",
            "False\n"
          ]
        }
      ]
    },
    {
      "cell_type": "code",
      "source": [
        "# Latihan Binary Search\n",
        "def latihanBinarySearch(myList, item):\n",
        "  first = 0\n",
        "  last = len(myList) - 1\n",
        "  found = False\n",
        "\n",
        "  while first <= last and not found:\n",
        "    midpoint = (first + last) // 2\n",
        "    if myList[midpoint] == item:\n",
        "      found = True\n",
        "    else:\n",
        "      if item < myList[midpoint]:\n",
        "        last = midpoint - 1\n",
        "      else:\n",
        "        first = midpoint + 1\n",
        "  return found\n",
        "\n",
        "latihanBinary = ['y', 'u', 'i', 'w', 'o', 'a', 'q', 'u', 'j', 'p',]\n",
        "print(latihanBinarySearch(latihanBinary, 'a'))\n"
      ],
      "metadata": {
        "colab": {
          "base_uri": "https://localhost:8080/"
        },
        "id": "AAU20d7EBhm-",
        "outputId": "ae1675f7-319d-4b20-a15a-e43636220181"
      },
      "execution_count": null,
      "outputs": [
        {
          "output_type": "stream",
          "name": "stdout",
          "text": [
            "False\n"
          ]
        }
      ]
    },
    {
      "cell_type": "code",
      "source": [
        "# Interpolation Search\n",
        "def IntPolSearch(myList, x):\n",
        "  idx0 = 0\n",
        "  idxn = (len(myList) - 1)\n",
        "  found = False\n",
        "  while idx0 <= idxn and x >= myList[idx0] and x <= myList[idxn]:\n",
        "\n",
        "    mid = idx0 + int(((float(idxn - idx0) / (myList[idxn] - myList[idx0])) * (x - myList[idx0])))\n",
        "\n",
        "    if myList[mid] == x:\n",
        "      found = True\n",
        "      return found\n",
        "\n",
        "    if list[mid] < x:\n",
        "      idx0 = mid + 1\n",
        "  return found\n",
        "\n",
        "listIntPol = [12, 33, 11, 99, 22, 55, 90]\n",
        "print(IntPolSearch(listIntPol, 12))\n",
        "print(IntPolSearch(listIntPol, 91))"
      ],
      "metadata": {
        "colab": {
          "base_uri": "https://localhost:8080/"
        },
        "id": "8Ph6_KxCCcA1",
        "outputId": "25b81b43-42a0-4fac-e0cc-b9d4f684f850"
      },
      "execution_count": null,
      "outputs": [
        {
          "output_type": "stream",
          "name": "stdout",
          "text": [
            "True\n",
            "False\n"
          ]
        }
      ]
    },
    {
      "cell_type": "code",
      "source": [
        "# Latihan Interpolation Search\n",
        "def latihanIntPolSearch(myList, x):\n",
        "  idx0 = 0\n",
        "  idxn = (len(myList) - 1)\n",
        "  found = False\n",
        "  while idx0 <= idxn and x >= myList[idx0] and x <= myList[idxn]:\n",
        "\n",
        "    mid = idx0 + int(((float(idxn - idx0) / (myList[idxn] - myList[idx0])) * (x - myList[idx0])))\n",
        "\n",
        "    if myList[mid] == x:\n",
        "      found = True\n",
        "      return found\n",
        "\n",
        "    if list[mid] < x:\n",
        "      idx0 = mid + 1\n",
        "  return found\n",
        "\n",
        "latihanIntPol = ['y', 'u', 'i', 'w', 'o', 'a', 'q', 'u', 'j', 'p',]\n",
        "print(latihanIntPolSearch(latihanIntPol, 'u'))"
      ],
      "metadata": {
        "colab": {
          "base_uri": "https://localhost:8080/"
        },
        "id": "Pybvm6w_Cb-E",
        "outputId": "64a27f66-0799-46c1-a047-6e8aec9874d3"
      },
      "execution_count": null,
      "outputs": [
        {
          "output_type": "stream",
          "name": "stdout",
          "text": [
            "False\n"
          ]
        }
      ]
    }
  ]
}