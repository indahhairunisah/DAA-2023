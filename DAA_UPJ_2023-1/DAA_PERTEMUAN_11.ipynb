{
  "nbformat": 4,
  "nbformat_minor": 0,
  "metadata": {
    "colab": {
      "provenance": []
    },
    "kernelspec": {
      "name": "python3",
      "display_name": "Python 3"
    },
    "language_info": {
      "name": "python"
    }
  },
  "cells": [
    {
      "cell_type": "markdown",
      "source": [
        "**Nama : Indah Hairunisah**\n",
        "---\n",
        "**NIM  : 2022071025**\n",
        "---\n",
        "\n",
        "\n",
        "---"
      ],
      "metadata": {
        "id": "7zptrtkGjxPB"
      }
    },
    {
      "cell_type": "code",
      "source": [
        "#Slide 28\n",
        "#Membuat graph\n",
        "\n",
        "# a-----b\n",
        "#/      /\n",
        "#/      /\n",
        "#c-----d-----e\n",
        "\n",
        "#Create the dictionary with graph elements\n",
        "graph = { \"a\" : [\"b\",\"c\"],\n",
        "          \"b\" : [\"a\",\"d\"],\n",
        "          \"c\" : [\"a\",\"d\"],\n",
        "          \"d\" : [\"e\"],\n",
        "          \"e\" : [\"d\"]\n",
        "        }\n",
        "\n",
        "#Print the graph\n",
        "print(graph)"
      ],
      "metadata": {
        "id": "d4epqiaJoW7B",
        "colab": {
          "base_uri": "https://localhost:8080/"
        },
        "outputId": "915777f8-9065-4c41-e87d-e174635811a8"
      },
      "execution_count": null,
      "outputs": [
        {
          "output_type": "stream",
          "name": "stdout",
          "text": [
            "{'a': ['b', 'c'], 'b': ['a', 'd'], 'c': ['a', 'd'], 'd': ['e'], 'e': ['d']}\n"
          ]
        }
      ]
    },
    {
      "cell_type": "code",
      "source": [
        "#Slide 29\n",
        "#Latihan 1\n",
        "\n",
        "#T-------U-------V\n",
        "#|               |\n",
        "#W---------------X\n",
        "#|               |\n",
        "#Z               S\n",
        "\n",
        "#Create the dictionary with graph elements\n",
        "graph = { \"T\" : [\"U\",\"W\"],\n",
        "          \"U\" : [\"T\",\"V\"],\n",
        "          \"V\" : [\"U\",\"X\"],\n",
        "          \"W\" : [\"T\",\"X\",\"Z\"],\n",
        "          \"X\" : [\"W\",\"S\"],\n",
        "          \"Z\" : [\"W\"],\n",
        "          \"S\" : [\"X\"]\n",
        "        }\n",
        "\n",
        "#Print the graph\n",
        "print(graph)"
      ],
      "metadata": {
        "id": "Kg20Zv_1oW9b",
        "colab": {
          "base_uri": "https://localhost:8080/"
        },
        "outputId": "51f34e6c-611c-4e4d-8375-39f0a8044912"
      },
      "execution_count": null,
      "outputs": [
        {
          "output_type": "stream",
          "name": "stdout",
          "text": [
            "{'T': ['U', 'W'], 'U': ['T', 'V'], 'V': ['U', 'X'], 'W': ['T', 'X', 'Z'], 'X': ['W', 'S'], 'Z': ['W'], 'S': ['X']}\n"
          ]
        }
      ]
    },
    {
      "cell_type": "code",
      "source": [
        "#Slide 30\n",
        "#Latihan 2\n",
        "\n",
        "#r-----o-----m\n",
        "#|      |     |\n",
        "#l-----p-----n\n",
        "\n",
        "#Create the dictionary with graph elements\n",
        "graph = { \"r\" : [\"o\",\"l\"],\n",
        "          \"o\" : [\"r\",\"m\",\"p\"],\n",
        "          \"m\" : [\"o\",\"n\"],\n",
        "          \"l\" : [\"r\",\"p\"],\n",
        "          \"p\" : [\"l\",\"o\",\"n\"],\n",
        "          \"n\" : [\"m\",\"p\"]\n",
        "        }\n",
        "\n",
        "#Print the graph\n",
        "print(graph)"
      ],
      "metadata": {
        "id": "7ZLsaM9AoXBX",
        "colab": {
          "base_uri": "https://localhost:8080/"
        },
        "outputId": "1dcb9210-1f91-4cbd-cd1a-6d8ab44f7a5a"
      },
      "execution_count": null,
      "outputs": [
        {
          "output_type": "stream",
          "name": "stdout",
          "text": [
            "{'r': ['o', 'l'], 'o': ['r', 'm', 'p'], 'm': ['o', 'n'], 'l': ['r', 'p'], 'p': ['l', 'o', 'n'], 'n': ['m', 'p']}\n"
          ]
        }
      ]
    },
    {
      "cell_type": "code",
      "source": [
        "#Slide 31\n",
        "#Menampilkan simpul pada graph\n",
        "\n",
        "class Graph:\n",
        "  def __init__(self, gdict=None):\n",
        "    if gdict is None:\n",
        "      gdict = {}\n",
        "    self.gdict = gdict\n",
        "\n",
        "  # get the keys of the dictionnary\n",
        "  def getVertices(self):\n",
        "    return list(self.gdict.keys())\n",
        "\n",
        "  def edges(self):\n",
        "    return self.findedges()\n",
        "\n",
        "#Create dictionary with graph elements\n",
        "graph_elements = {\"a\" : [\"b\",\"c\"],\n",
        "                  \"b\" : [\"a\",\"d\"],\n",
        "                  \"c\" : [\"a\",\"d\"],\n",
        "                  \"d\" : [\"e\"],\n",
        "                  \"e\" : [\"d\"]\n",
        "                  }\n",
        "\n",
        "#Create an instance of the graph class and pass the graph_elements\n",
        "g = Graph(graph_elements)\n",
        "\n",
        "#Print the vertices by calling the getVertices method with parentheses\n",
        "print(g.getVertices())"
      ],
      "metadata": {
        "colab": {
          "base_uri": "https://localhost:8080/"
        },
        "id": "RBwzO98Atkzj",
        "outputId": "ff4ebee0-f755-4e70-df8e-fd3c04516816"
      },
      "execution_count": null,
      "outputs": [
        {
          "output_type": "stream",
          "name": "stdout",
          "text": [
            "['a', 'b', 'c', 'd', 'e']\n"
          ]
        }
      ]
    },
    {
      "cell_type": "code",
      "source": [
        "#Slide 32\n",
        "#Latihan Simpul Graph TUV\n",
        "\n",
        "class Graph:\n",
        "  def __init__(self, gdict=None):\n",
        "    if gdict is None:\n",
        "      gdict = {}\n",
        "    self.gdict = gdict\n",
        "\n",
        "  # get the keys of the dictionnary\n",
        "  def getVertices(self):\n",
        "    return list(self.gdict.keys())\n",
        "\n",
        "  def edges(self):\n",
        "    return self.findedges()\n",
        "\n",
        "#Create dictionary with graph elements\n",
        "graph_elements = graph_elements = { \"T\" : [\"U\",\"W\"],\n",
        "          \"U\" : [\"T\",\"V\"],\n",
        "          \"V\" : [\"U\",\"X\"],\n",
        "          \"W\" : [\"T\",\"X\",\"Z\"],\n",
        "          \"X\" : [\"W\",\"S\"],\n",
        "          \"Z\" : [\"W\"],\n",
        "          \"S\" : [\"X\"]\n",
        "        }\n",
        "#Create an instance of the graph class and pass the graph_elements\n",
        "g = Graph(graph_elements)\n",
        "\n",
        "#Print the vertices by calling the getVertices method with parentheses\n",
        "print(g.getVertices())"
      ],
      "metadata": {
        "colab": {
          "base_uri": "https://localhost:8080/"
        },
        "id": "WyehKK14tvC7",
        "outputId": "43f8d4d7-01d1-4404-f131-c5627bdb475a"
      },
      "execution_count": null,
      "outputs": [
        {
          "output_type": "stream",
          "name": "stdout",
          "text": [
            "['T', 'U', 'V', 'W', 'X', 'Z', 'S']\n"
          ]
        }
      ]
    },
    {
      "cell_type": "code",
      "source": [
        "#Slide 33\n",
        "#Latihan Simpul Graph ROM\n",
        "\n",
        "class Graph:\n",
        "  def __init__(self, gdict=None):\n",
        "    if gdict is None:\n",
        "      gdict = {}\n",
        "    self.gdict = gdict\n",
        "\n",
        "  # get the keys of the dictionnary\n",
        "  def getVertices(self):\n",
        "    return list(self.gdict.keys())\n",
        "\n",
        "  def edges(self):\n",
        "    return self.findedges()\n",
        "\n",
        "#Create dictionary with graph elements\n",
        "graph_elements = { \"r\" : [\"o\",\"l\"],\n",
        "          \"o\" : [\"r\",\"m\",\"p\"],\n",
        "          \"m\" : [\"o\",\"n\"],\n",
        "          \"l\" : [\"r\",\"p\"],\n",
        "          \"p\" : [\"l\",\"o\",\"n\"],\n",
        "          \"n\" : [\"m\",\"p\"]\n",
        "        }\n",
        "#Create an instance of the graph class and pass the graph_elements\n",
        "g = Graph(graph_elements)\n",
        "\n",
        "#Print the vertices by calling the getVertices method with parentheses\n",
        "print(g.getVertices())"
      ],
      "metadata": {
        "colab": {
          "base_uri": "https://localhost:8080/"
        },
        "id": "fzNqdA1FuDT7",
        "outputId": "aefa3bc3-75dd-4641-b669-fa2ad6196d2f"
      },
      "execution_count": null,
      "outputs": [
        {
          "output_type": "stream",
          "name": "stdout",
          "text": [
            "['r', 'o', 'm', 'l', 'p', 'n']\n"
          ]
        }
      ]
    },
    {
      "cell_type": "code",
      "source": [
        "#Slide 34\n",
        "#Menampilkan sudut pada graph\n",
        "\n",
        "class graph:\n",
        "  def __init__(self,gdict=None):\n",
        "    if gdict is None:\n",
        "      gdict = {}\n",
        "    self.gdict = gdict\n",
        "\n",
        "  def edges(self):\n",
        "      return self.findedges()\n",
        "\n",
        "#Find the distinct list of edges\n",
        "  def findedges(self):\n",
        "    edgename = []\n",
        "    for vrtx in self.gdict:\n",
        "      for nxtvrtx in self.gdict[vrtx]:\n",
        "        if {nxtvrtx,vrtx} not in edgename:\n",
        "          edgename.append({vrtx,nxtvrtx})\n",
        "    return edgename\n",
        "\n",
        "#Create the dictionary with graph elements\n",
        "graph_elements = {\"a\" : [\"b\",\"c\"],\n",
        "                  \"b\" : [\"a\",\"d\"],\n",
        "                  \"c\" : [\"a\",\"d\"],\n",
        "                  \"d\" : [\"e\"],\n",
        "                  \"e\" : [\"d\"]\n",
        "                  }\n",
        "g = graph(graph_elements)\n",
        "\n",
        "print(g.edges())"
      ],
      "metadata": {
        "colab": {
          "base_uri": "https://localhost:8080/"
        },
        "id": "K3JVJd5TuG_m",
        "outputId": "fbb802fe-6c29-4d32-90ed-aa17dfc8a800"
      },
      "execution_count": null,
      "outputs": [
        {
          "output_type": "stream",
          "name": "stdout",
          "text": [
            "[{'a', 'b'}, {'c', 'a'}, {'d', 'b'}, {'c', 'd'}, {'e', 'd'}]\n"
          ]
        }
      ]
    },
    {
      "cell_type": "code",
      "source": [
        "#Slide 35\n",
        "#Latihan EDGE apada Graph TUV\n",
        "\n",
        "class graph:\n",
        "  def __init__(self,gdict=None):\n",
        "    if gdict is None:\n",
        "      gdict = {}\n",
        "    self.gdict = gdict\n",
        "\n",
        "  def edges(self):\n",
        "      return self.findedges()\n",
        "\n",
        "#Find the distinct list of edges\n",
        "  def findedges(self):\n",
        "    edgename = []\n",
        "    for vrtx in self.gdict:\n",
        "      for nxtvrtx in self.gdict[vrtx]:\n",
        "        if {nxtvrtx,vrtx} not in edgename:\n",
        "          edgename.append({vrtx,nxtvrtx})\n",
        "    return edgename\n",
        "\n",
        "#Create the dictionary with graph elements\n",
        "graph_elements = { \"T\" : [\"U\",\"W\"],\n",
        "          \"U\" : [\"T\",\"V\"],\n",
        "          \"V\" : [\"U\",\"X\"],\n",
        "          \"W\" : [\"T\",\"X\",\"Z\"],\n",
        "          \"X\" : [\"W\",\"S\"],\n",
        "          \"Z\" : [\"W\"],\n",
        "          \"S\" : [\"X\"]\n",
        "        }\n",
        "g = graph(graph_elements)\n",
        "\n",
        "print(g.edges())"
      ],
      "metadata": {
        "colab": {
          "base_uri": "https://localhost:8080/"
        },
        "id": "xr21VAIDuUcp",
        "outputId": "faf2a32b-415d-48c3-bb42-0c2270ac850c"
      },
      "execution_count": null,
      "outputs": [
        {
          "output_type": "stream",
          "name": "stdout",
          "text": [
            "[{'T', 'U'}, {'W', 'T'}, {'V', 'U'}, {'V', 'X'}, {'W', 'X'}, {'W', 'Z'}, {'S', 'X'}]\n"
          ]
        }
      ]
    },
    {
      "cell_type": "code",
      "source": [
        "#Slide 36\n",
        "#Latihan EDGE pada Graph ROM\n",
        "\n",
        "class graph:\n",
        "  def __init__(self,gdict=None):\n",
        "    if gdict is None:\n",
        "      gdict = {}\n",
        "    self.gdict = gdict\n",
        "\n",
        "  def edges(self):\n",
        "      return self.findedges()\n",
        "\n",
        "#Find the distinct list of edges\n",
        "  def findedges(self):\n",
        "    edgename = []\n",
        "    for vrtx in self.gdict:\n",
        "      for nxtvrtx in self.gdict[vrtx]:\n",
        "        if {nxtvrtx,vrtx} not in edgename:\n",
        "          edgename.append({vrtx,nxtvrtx})\n",
        "    return edgename\n",
        "\n",
        "#Create the dictionary with graph elements\n",
        "graph_elements = { \"r\" : [\"o\",\"l\"],\n",
        "          \"o\" : [\"r\",\"m\",\"p\"],\n",
        "          \"m\" : [\"o\",\"n\"],\n",
        "          \"l\" : [\"r\",\"p\"],\n",
        "          \"p\" : [\"l\",\"o\",\"n\"],\n",
        "          \"n\" : [\"m\",\"p\"]\n",
        "        }\n",
        "g = graph(graph_elements)\n",
        "\n",
        "print(g.edges())"
      ],
      "metadata": {
        "colab": {
          "base_uri": "https://localhost:8080/"
        },
        "id": "dNY-Xg1duaLW",
        "outputId": "3bfc2543-a3d9-4cb0-95a7-1a9e89ea4ee8"
      },
      "execution_count": null,
      "outputs": [
        {
          "output_type": "stream",
          "name": "stdout",
          "text": [
            "[{'r', 'o'}, {'r', 'l'}, {'o', 'm'}, {'o', 'p'}, {'n', 'm'}, {'l', 'p'}, {'n', 'p'}]\n"
          ]
        }
      ]
    },
    {
      "cell_type": "code",
      "source": [
        "#Slide 37\n",
        "#Menambah Vertex/Simpul F\n",
        "\n",
        "class graph:\n",
        "  def __init__(self,gdict=None):\n",
        "    if gdict is None:\n",
        "      gdict = {}\n",
        "    self.gdict = gdict\n",
        "\n",
        "  def getVertices(self):\n",
        "      return list(self.gdict.keys())\n",
        "\n",
        "#Add the vertex as a key\n",
        "  def addVertex(self, vrtx):\n",
        "    if vrtx not in self.gdict:\n",
        "      self.gdict[vrtx] = []\n",
        "\n",
        "#Create the dictionary with graph elements\n",
        "graph_elements = {\"a\" : [\"b\",\"c\",\"f\"],\n",
        "                  \"b\" : [\"a\",\"d\",\"f\"],\n",
        "                  \"c\" : [\"a\",\"d\"],\n",
        "                  \"d\" : [\"e\"],\n",
        "                  \"e\" : [\"d\"],\n",
        "                  \"f\" : [\"e\"]\n",
        "                  }\n",
        "g = graph(graph_elements)\n",
        "g.addVertex(\"f\")\n",
        "print(g.getVertices())"
      ],
      "metadata": {
        "colab": {
          "base_uri": "https://localhost:8080/"
        },
        "id": "_0rRYaUNugxh",
        "outputId": "606cde5d-c72b-47e8-9acf-8eeb87c26f51"
      },
      "execution_count": null,
      "outputs": [
        {
          "output_type": "stream",
          "name": "stdout",
          "text": [
            "['a', 'b', 'c', 'd', 'e', 'f']\n"
          ]
        }
      ]
    },
    {
      "cell_type": "code",
      "source": [
        "#Slide 38\n",
        "#Latihan Simpul R pada Graph TUV\n",
        "\n",
        "class graph:\n",
        "  def __init__(self,gdict=None):\n",
        "    if gdict is None:\n",
        "      gdict = {}\n",
        "    self.gdict = gdict\n",
        "\n",
        "  def getVertices(self):\n",
        "      return list(self.gdict.keys())\n",
        "\n",
        "#Add the vertex as a key\n",
        "  def addVertex(self, vrtx):\n",
        "    if vrtx not in self.gdict:\n",
        "      self.gdict[vrtx] = []\n",
        "\n",
        "#Create the dictionary with graph elements\n",
        "graph_elements = { \"T\" : [\"U\",\"W\"],\n",
        "          \"U\" : [\"T\",\"V\"],\n",
        "          \"V\" : [\"U\",\"X\"],\n",
        "          \"W\" : [\"T\",\"X\",\"Z\"],\n",
        "          \"X\" : [\"W\",\"S\"],\n",
        "          \"Z\" : [\"W\"],\n",
        "          \"S\" : [\"X\"],\n",
        "          \"R\" : [\"s\",\"z\"]\n",
        "        }\n",
        "g = graph(graph_elements)\n",
        "g.addVertex(\"R\")\n",
        "print(g.getVertices())"
      ],
      "metadata": {
        "colab": {
          "base_uri": "https://localhost:8080/"
        },
        "id": "F6II8M5ouno4",
        "outputId": "1a4eb53b-c446-40f2-8a55-8dd1e3ce4ce1"
      },
      "execution_count": null,
      "outputs": [
        {
          "output_type": "stream",
          "name": "stdout",
          "text": [
            "['T', 'U', 'V', 'W', 'X', 'Z', 'S', 'R']\n"
          ]
        }
      ]
    },
    {
      "cell_type": "code",
      "source": [
        "#Slide 39\n",
        "#Latihan\n",
        "\n",
        "class graph:\n",
        "  def __init__(self,gdict=None):\n",
        "    if gdict is None:\n",
        "      gdict = {}\n",
        "    self.gdict = gdict\n",
        "\n",
        "  def getVertices(self):\n",
        "      return list(self.gdict.keys())\n",
        "\n",
        "#Add the vertex as a key\n",
        "  def addVertex(self, vrtx):\n",
        "    if vrtx not in self.gdict:\n",
        "      self.gdict[vrtx] = []\n",
        "\n",
        "#Create the dictionary with graph elements\n",
        "graph_elements = { \"r\" : [\"o\",\"l\"],\n",
        "          \"o\" : [\"r\",\"m\",\"p\"],\n",
        "          \"m\" : [\"o\",\"n\"],\n",
        "          \"l\" : [\"r\",\"p\"],\n",
        "          \"p\" : [\"l\",\"o\",\"n\"],\n",
        "          \"n\" : [\"m\",\"p\"],\n",
        "          \"K\" : [\"l\"],\n",
        "          \"j\" : [\"n\"]\n",
        "        }\n",
        "g = graph(graph_elements)\n",
        "g.addVertex(\"J\")\n",
        "g.addVertex(\"K\")\n",
        "print(g.getVertices())"
      ],
      "metadata": {
        "colab": {
          "base_uri": "https://localhost:8080/"
        },
        "id": "1AAqHm7suz-C",
        "outputId": "bdf69117-902f-4d4f-8059-ec513cf0714c"
      },
      "execution_count": null,
      "outputs": [
        {
          "output_type": "stream",
          "name": "stdout",
          "text": [
            "['r', 'o', 'm', 'l', 'p', 'n', 'J', 'K']\n"
          ]
        }
      ]
    },
    {
      "cell_type": "code",
      "source": [
        "# Slide 40-41\n",
        "#Menambah Edge/Sudut\n",
        "\n",
        "class Graph:\n",
        "  def __init__(self, gdict=None):\n",
        "    if gdict is None:\n",
        "      gdict = {}\n",
        "    self.gdict = gdict\n",
        "\n",
        "  # get the keys of the dictionnary\n",
        "  def getVertices(self):\n",
        "    return list(self.gdict.keys())\n",
        "\n",
        "  def edges(self):\n",
        "    return self.findedges()\n",
        "\n",
        "  # add the new edge\n",
        "  def addEdge(self, edge):\n",
        "    edge = set(edge)\n",
        "    (vrtx1, vrtx2) = tuple(edge)\n",
        "    if vrtx1 in self.gdict:\n",
        "      self.gdict[vrtx1].append(vrtx2)\n",
        "    else:\n",
        "      self.gdict[vrtx1] = [vrtx2]\n",
        "\n",
        "  # Find the distinct list of edges\n",
        "  def findedges(self):\n",
        "    edgename = []\n",
        "    for vrtx in self.gdict:\n",
        "      for nxtvrtx in self.gdict[vrtx]:\n",
        "        if {nxtvrtx, vrtx} not in edgename:\n",
        "          edgename.append({vrtx, nxtvrtx})\n",
        "    return edgename\n",
        "\n",
        "  # Add the vertex as a key\n",
        "  def addVertex(self, vrtx):\n",
        "    if vrtx not in self.gdict:\n",
        "      self.gdict[vrtx] = []\n",
        "\n",
        "# Create dictionary with graph elements\n",
        "graph_elements = {\"a\" : [\"b\", \"c\"],\n",
        "                  \"b\" : [\"a\", \"d\"],\n",
        "                  \"c\" : [\"a\", \"d\"],\n",
        "                  \"d\" : [\"e\"],\n",
        "                  \"e\" : [\"d\"]\n",
        "                  }\n",
        "\n",
        "# Create an instance of the graph class and pass the graph_elements\n",
        "g = Graph(graph_elements)\n",
        "\n",
        "#Menambah sudut\n",
        "g.addEdge({'a', 'e'})\n",
        "g.addEdge({'a', 'c'})\n",
        "print(g.edges())"
      ],
      "metadata": {
        "id": "auirNK2Wu5GV",
        "colab": {
          "base_uri": "https://localhost:8080/"
        },
        "outputId": "49cbcb82-d9d3-4b88-f42c-48e21bef8498"
      },
      "execution_count": null,
      "outputs": [
        {
          "output_type": "stream",
          "name": "stdout",
          "text": [
            "[{'a', 'b'}, {'a', 'c'}, {'a', 'e'}, {'d', 'b'}, {'d', 'c'}, {'d', 'e'}]\n"
          ]
        }
      ]
    },
    {
      "cell_type": "code",
      "source": [
        "# Sudut F ke B dan F ke E\n",
        "# Slide 40-41\n",
        "# Menambah Edge/Sudut\n",
        "\n",
        "class Graph:\n",
        "  def __init__(self, gdict=None):\n",
        "    if gdict is None:\n",
        "      gdict = {}\n",
        "    self.gdict = gdict\n",
        "\n",
        "  # get the keys of the dictionnary\n",
        "  def getVertices(self):\n",
        "    return list(self.gdict.keys())\n",
        "\n",
        "  def edges(self):\n",
        "    return self.findedges()\n",
        "\n",
        "  # add the new edge\n",
        "  def addEdge(self, edge):\n",
        "    edge = set(edge)\n",
        "    (vrtx1, vrtx2) = tuple(edge)\n",
        "    if vrtx1 in self.gdict:\n",
        "      self.gdict[vrtx1].append(vrtx2)\n",
        "    else:\n",
        "      self.gdict[vrtx1] = [vrtx2]\n",
        "\n",
        "  # Find the distinct list of edges\n",
        "  def findedges(self):\n",
        "    edgename = []\n",
        "    for vrtx in self.gdict:\n",
        "      for nxtvrtx in self.gdict[vrtx]:\n",
        "        if {nxtvrtx, vrtx} not in edgename:\n",
        "          edgename.append({vrtx, nxtvrtx})\n",
        "    return edgename\n",
        "\n",
        "  # Add the vertex as a key\n",
        "  def addVertex(self, vrtx):\n",
        "    if vrtx not in self.gdict:\n",
        "      self.gdict[vrtx] = []\n",
        "\n",
        "# Create dictionary with graph elements\n",
        "graph_elements = {\"a\" : [\"b\",\"c\",\"f\"],\n",
        "                  \"b\" : [\"a\",\"d\",\"f\"],\n",
        "                  \"c\" : [\"a\",\"d\"],\n",
        "                  \"d\" : [\"e\",\"b\"],\n",
        "                  \"e\" : [\"d\"],\n",
        "                  \"f\" : [\"e\"]\n",
        "                  }\n",
        "\n",
        "# Create an instance of the graph class and pass the graph_elements\n",
        "g = Graph(graph_elements)\n",
        "\n",
        "#Menambah sudut\n",
        "g.addEdge({'f', 'b'})\n",
        "g.addEdge({'f', 'e'})\n",
        "print(g.edges())"
      ],
      "metadata": {
        "colab": {
          "base_uri": "https://localhost:8080/"
        },
        "id": "AfMW8Hi09Q3K",
        "outputId": "b0d5e825-4ef1-434c-b0c3-72aec941f937"
      },
      "execution_count": null,
      "outputs": [
        {
          "output_type": "stream",
          "name": "stdout",
          "text": [
            "[{'a', 'b'}, {'a', 'c'}, {'a', 'f'}, {'d', 'b'}, {'b', 'f'}, {'d', 'c'}, {'d', 'e'}, {'f', 'e'}]\n"
          ]
        }
      ]
    },
    {
      "cell_type": "code",
      "source": [
        "#Slide 42\n",
        "#Latihan Menambahkan Sudut R Ke Z dan Sudut R Ke S pada Edge TUV\n",
        "\n",
        "class Graph:\n",
        "  def __init__(self, gdict=None):\n",
        "    if gdict is None:\n",
        "      gdict = {}\n",
        "    self.gdict = gdict\n",
        "\n",
        "  # get the keys of the dictionnary\n",
        "  def getVertices(self):\n",
        "    return list(self.gdict.keys())\n",
        "\n",
        "  def edges(self):\n",
        "    return self.findedges()\n",
        "\n",
        "  # add the new edge\n",
        "  def addEdge(self, edge):\n",
        "    edge = set(edge)\n",
        "    (vrtx1, vrtx2) = tuple(edge)\n",
        "    if vrtx1 in self.gdict:\n",
        "      self.gdict[vrtx1].append(vrtx2)\n",
        "    else:\n",
        "      self.gdict[vrtx1] = [vrtx2]\n",
        "\n",
        "  # Find the distinct list of edges\n",
        "  def findedges(self):\n",
        "    edgename = []\n",
        "    for vrtx in self.gdict:\n",
        "      for nxtvrtx in self.gdict[vrtx]:\n",
        "        if {nxtvrtx, vrtx} not in edgename:\n",
        "          edgename.append({vrtx, nxtvrtx})\n",
        "    return edgename\n",
        "\n",
        "  # Add the vertex as a key\n",
        "  def addVertex(self, vrtx):\n",
        "    if vrtx not in self.gdict:\n",
        "      self.gdict[vrtx] = []\n",
        "\n",
        "# Create dictionary with graph elements\n",
        "graph_elements = { \"T\" : [\"U\",\"W\"],\n",
        "          \"U\" : [\"T\",\"V\"],\n",
        "          \"V\" : [\"U\",\"X\"],\n",
        "          \"W\" : [\"T\",\"X\",\"Z\"],\n",
        "          \"X\" : [\"W\",\"S\"],\n",
        "          \"Z\" : [\"W\"],\n",
        "          \"S\" : [\"X\"],\n",
        "          \"R\" : [\"z\",\"s\"]\n",
        "        }\n",
        "# Create an instance of the graph class and pass the graph_elements\n",
        "g = Graph(graph_elements)\n",
        "\n",
        "#Menambah sudut\n",
        "g.addEdge({'R', 'Z'})\n",
        "g.addEdge({'R', 'S'})\n",
        "print(g.edges())"
      ],
      "metadata": {
        "id": "xtBwSvw7u8ZO",
        "colab": {
          "base_uri": "https://localhost:8080/"
        },
        "outputId": "99a58c67-3eb8-4c4d-fdea-761d2977859a"
      },
      "execution_count": null,
      "outputs": [
        {
          "output_type": "stream",
          "name": "stdout",
          "text": [
            "[{'U', 'T'}, {'W', 'T'}, {'U', 'V'}, {'V', 'X'}, {'X', 'W'}, {'W', 'Z'}, {'X', 'S'}, {'S', 'R'}, {'z', 'R'}, {'s', 'R'}, {'R', 'Z'}]\n"
          ]
        }
      ]
    },
    {
      "cell_type": "code",
      "source": [
        "#Slide 43\n",
        "#Latihan Menambahkan Sudut R Ke K dan Sudut M Ke J pada Edge ROM\n",
        "\n",
        "class Graph:\n",
        "  def __init__(self, gdict=None):\n",
        "    if gdict is None:\n",
        "      gdict = {}\n",
        "    self.gdict = gdict\n",
        "\n",
        "  # get the keys of the dictionnary\n",
        "  def getVertices(self):\n",
        "    return list(self.gdict.keys())\n",
        "\n",
        "  def edges(self):\n",
        "    return self.findedges()\n",
        "\n",
        "  # add the new edge\n",
        "  def addEdge(self, edge):\n",
        "    edge = set(edge)\n",
        "    (vrtx1, vrtx2) = tuple(edge)\n",
        "    if vrtx1 in self.gdict:\n",
        "      self.gdict[vrtx1].append(vrtx2)\n",
        "    else:\n",
        "      self.gdict[vrtx1] = [vrtx2]\n",
        "\n",
        "  # Find the distinct list of edges\n",
        "  def findedges(self):\n",
        "    edgename = []\n",
        "    for vrtx in self.gdict:\n",
        "      for nxtvrtx in self.gdict[vrtx]:\n",
        "        if {nxtvrtx, vrtx} not in edgename:\n",
        "          edgename.append({vrtx, nxtvrtx})\n",
        "    return edgename\n",
        "\n",
        "  # Add the vertex as a key\n",
        "  def addVertex(self, vrtx):\n",
        "    if vrtx not in self.gdict:\n",
        "      self.gdict[vrtx] = []\n",
        "\n",
        "# Create dictionary with graph elements\n",
        "graph_elements = { \"r\" : [\"o\",\"l\"],\n",
        "          \"o\" : [\"r\",\"m\",\"p\"],\n",
        "          \"m\" : [\"o\",\"n\"],\n",
        "          \"l\" : [\"r\",\"p\"],\n",
        "          \"p\" : [\"l\",\"o\",\"n\"],\n",
        "          \"n\" : [\"m\",\"p\",\"j\"],\n",
        "          \"K\" : [\"l\"],\n",
        "          \"j\" : [\"n\"]\n",
        "        }\n",
        "# Create an instance of the graph class and pass the graph_elements\n",
        "g = Graph(graph_elements)\n",
        "\n",
        "#Menambah sudut\n",
        "g.addEdge({'R', 'K'})\n",
        "g.addEdge({'M', 'J'})\n",
        "print(g.edges())"
      ],
      "metadata": {
        "id": "EEAWKQBwvSlg",
        "colab": {
          "base_uri": "https://localhost:8080/"
        },
        "outputId": "2c3a8cfc-6da6-4fe1-c2e2-3ad6483719b8"
      },
      "execution_count": null,
      "outputs": [
        {
          "output_type": "stream",
          "name": "stdout",
          "text": [
            "[{'o', 'r'}, {'l', 'r'}, {'o', 'm'}, {'o', 'p'}, {'n', 'm'}, {'l', 'p'}, {'n', 'p'}, {'j', 'n'}, {'l', 'K'}, {'R', 'K'}, {'J', 'M'}]\n"
          ]
        }
      ]
    },
    {
      "cell_type": "code",
      "source": [
        "#Latihan Menambahkan Sudut L Ke K dan Sudut N Ke J pada Edge ROM\n",
        "\n",
        "class Graph:\n",
        "  def __init__(self, gdict=None):\n",
        "    if gdict is None:\n",
        "      gdict = {}\n",
        "    self.gdict = gdict\n",
        "\n",
        "  # get the keys of the dictionnary\n",
        "  def getVertices(self):\n",
        "    return list(self.gdict.keys())\n",
        "\n",
        "  def edges(self):\n",
        "    return self.findedges()\n",
        "\n",
        "  # add the new edge\n",
        "  def addEdge(self, edge):\n",
        "    edge = set(edge)\n",
        "    (vrtx1, vrtx2) = tuple(edge)\n",
        "    if vrtx1 in self.gdict:\n",
        "      self.gdict[vrtx1].append(vrtx2)\n",
        "    else:\n",
        "      self.gdict[vrtx1] = [vrtx2]\n",
        "\n",
        "  # Find the distinct list of edges\n",
        "  def findedges(self):\n",
        "    edgename = []\n",
        "    for vrtx in self.gdict:\n",
        "      for nxtvrtx in self.gdict[vrtx]:\n",
        "        if {nxtvrtx, vrtx} not in edgename:\n",
        "          edgename.append({vrtx, nxtvrtx})\n",
        "    return edgename\n",
        "\n",
        "  # Add the vertex as a key\n",
        "  def addVertex(self, vrtx):\n",
        "    if vrtx not in self.gdict:\n",
        "      self.gdict[vrtx] = []\n",
        "\n",
        "# Create dictionary with graph elements\n",
        "graph_elements = { \"r\" : [\"o\",\"l\"],\n",
        "          \"o\" : [\"r\",\"m\",\"p\"],\n",
        "          \"m\" : [\"o\",\"n\"],\n",
        "          \"l\" : [\"r\",\"p\"],\n",
        "          \"p\" : [\"l\",\"o\",\"n\"],\n",
        "          \"n\" : [\"m\",\"p\",\"j\"],\n",
        "          \"K\" : [\"l\"],\n",
        "          \"j\" : [\"n\"]\n",
        "        }\n",
        "# Create an instance of the graph class and pass the graph_elements\n",
        "g = Graph(graph_elements)\n",
        "\n",
        "#Menambah sudut\n",
        "g.addEdge({'L', 'K'})\n",
        "g.addEdge({'N', 'J'})\n",
        "print(g.edges())"
      ],
      "metadata": {
        "colab": {
          "base_uri": "https://localhost:8080/"
        },
        "id": "9VJVWrJVBWqK",
        "outputId": "489c0745-2545-4874-c48e-2c08242156d2"
      },
      "execution_count": null,
      "outputs": [
        {
          "output_type": "stream",
          "name": "stdout",
          "text": [
            "[{'o', 'r'}, {'l', 'r'}, {'o', 'm'}, {'o', 'p'}, {'n', 'm'}, {'l', 'p'}, {'n', 'p'}, {'j', 'n'}, {'l', 'K'}, {'L', 'K'}, {'J', 'N'}]\n"
          ]
        }
      ]
    }
  ]
}