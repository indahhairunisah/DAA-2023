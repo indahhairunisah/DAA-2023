{
  "nbformat": 4,
  "nbformat_minor": 0,
  "metadata": {
    "colab": {
      "provenance": []
    },
    "kernelspec": {
      "name": "python3",
      "display_name": "Python 3"
    },
    "language_info": {
      "name": "python"
    }
  },
  "cells": [
    {
      "cell_type": "markdown",
      "source": [
        "# **Nama: Indah Hairunisah**\n",
        "\n",
        "#**NIM: 2022071025**"
      ],
      "metadata": {
        "id": "P_5arEFhMkvm"
      }
    },
    {
      "cell_type": "code",
      "execution_count": 1,
      "metadata": {
        "id": "ksqYDlVEbcKf"
      },
      "outputs": [],
      "source": [
        "# Slide 10\n",
        "# Implementasi Algoritma Breadth-first Search\n",
        "def bfs(graph,start):\n",
        "  visited=[]\n",
        "  queue = []\n",
        "  queue =[start]\n",
        "  while queue:\n",
        "    node = queue.pop(0)\n",
        "    if node not in visited:\n",
        "      visited.append(node)\n",
        "      neighbours = graph[node]\n",
        "      for neighbour in neighbours:\n",
        "        queue.append(neighbour)\n",
        "  return visited"
      ]
    },
    {
      "cell_type": "code",
      "source": [
        "# Slide 11\n",
        "# Implementasi Algoritma Breadth-first Search\n",
        "graph = {'amin' : ['wasim','nick','mike'],\n",
        "         'wasim' : ['imran','amin'],\n",
        "         'imran' : ['wasim','faras'],\n",
        "         'faras' : ['imran'],\n",
        "         'mike' : ['amin'],\n",
        "         'nick' : ['amin']\n",
        "}"
      ],
      "metadata": {
        "id": "FVR_6fOgc739"
      },
      "execution_count": 2,
      "outputs": []
    },
    {
      "cell_type": "code",
      "source": [
        "bfs(graph,'amin')"
      ],
      "metadata": {
        "colab": {
          "base_uri": "https://localhost:8080/"
        },
        "id": "Dmjh2n43duHt",
        "outputId": "d4514023-5597-41d4-a1a0-39ff43af7c9b"
      },
      "execution_count": 3,
      "outputs": [
        {
          "output_type": "execute_result",
          "data": {
            "text/plain": [
              "['amin', 'wasim', 'nick', 'mike', 'imran', 'faras']"
            ]
          },
          "metadata": {},
          "execution_count": 3
        }
      ]
    },
    {
      "cell_type": "code",
      "source": [
        "# Slide 13\n",
        "# Implementasi Algoritma Breadth-first Search\n",
        "# o amin ---------------------\n",
        "# |             |           |\n",
        "# o wasim    o nick     o mike\n",
        "# |\n",
        "# o imran\n",
        "# |\n",
        "# o faras\n",
        "\n",
        "bfs(graph, 'amin')"
      ],
      "metadata": {
        "colab": {
          "base_uri": "https://localhost:8080/"
        },
        "id": "YN7-kLeGd9yk",
        "outputId": "6c84ca23-d31b-4d5e-8a9b-5d7d1291856f"
      },
      "execution_count": 4,
      "outputs": [
        {
          "output_type": "execute_result",
          "data": {
            "text/plain": [
              "['amin', 'wasim', 'nick', 'mike', 'imran', 'faras']"
            ]
          },
          "metadata": {},
          "execution_count": 4
        }
      ]
    },
    {
      "cell_type": "code",
      "source": [
        "# Slide 14\n",
        "# Implementasi Algoritma Breadth-first Search\n",
        "# o amin ---------------------\n",
        "# |             |           |\n",
        "# o wasim    o nick     o mike\n",
        "# |\n",
        "# o imran\n",
        "# |\n",
        "# o faras\n",
        "\n",
        "bfs(graph, 'wasim')"
      ],
      "metadata": {
        "colab": {
          "base_uri": "https://localhost:8080/"
        },
        "id": "tpHDJKlLevxM",
        "outputId": "5ae6dd77-aab4-4f1c-ad26-248921557bde"
      },
      "execution_count": 5,
      "outputs": [
        {
          "output_type": "execute_result",
          "data": {
            "text/plain": [
              "['wasim', 'imran', 'amin', 'faras', 'nick', 'mike']"
            ]
          },
          "metadata": {},
          "execution_count": 5
        }
      ]
    },
    {
      "cell_type": "code",
      "source": [
        "# Slide 15\n",
        "# Implementasi Algoritma Breadth-first Search\n",
        "# o amin ---------------------\n",
        "# |             |           |\n",
        "# o wasim    o nick     o mike\n",
        "# |\n",
        "# o imran\n",
        "# |\n",
        "# o faras\n",
        "\n",
        "bfs(graph, 'faras')"
      ],
      "metadata": {
        "colab": {
          "base_uri": "https://localhost:8080/"
        },
        "id": "jnE_6Y70e8f9",
        "outputId": "1be27080-6d2c-489e-ff6b-ef0b0e843086"
      },
      "execution_count": 6,
      "outputs": [
        {
          "output_type": "execute_result",
          "data": {
            "text/plain": [
              "['faras', 'imran', 'wasim', 'amin', 'nick', 'mike']"
            ]
          },
          "metadata": {},
          "execution_count": 6
        }
      ]
    },
    {
      "cell_type": "code",
      "source": [
        "bfs(graph,'imran')"
      ],
      "metadata": {
        "colab": {
          "base_uri": "https://localhost:8080/"
        },
        "id": "0uFSlm_mjZl8",
        "outputId": "f9711ce5-b8b0-4022-96c5-509fc3425c93"
      },
      "execution_count": 7,
      "outputs": [
        {
          "output_type": "execute_result",
          "data": {
            "text/plain": [
              "['imran', 'wasim', 'faras', 'amin', 'nick', 'mike']"
            ]
          },
          "metadata": {},
          "execution_count": 7
        }
      ]
    },
    {
      "cell_type": "code",
      "source": [
        "# Slide 17\n",
        "# Latihan BFS\n",
        "\n",
        "# o Rektor ------------\n",
        "# |                   |\n",
        "# o warek 1           o warek 2\n",
        "# --------------------|----------------\n",
        "# |                   |               |\n",
        "# o kaprodi 1         o kaprodi 2     o kaprodi 3\n",
        "# |                   |               |\n",
        "# |-- o dosen A       |--o dosen d    |--o dosen f\n",
        "# |                   |               |\n",
        "# |-- o dosen b       |--o dosen e    |--o dosen g\n",
        "# |\n",
        "# |-- o dosen c"
      ],
      "metadata": {
        "id": "qK5tvem3zQqY"
      },
      "execution_count": 8,
      "outputs": []
    },
    {
      "cell_type": "code",
      "source": [
        "# Slide 17\n",
        "# Latihan BFS\n",
        "\n",
        "graph = {'rektor' : ['warek1','warek2'],\n",
        "         'warek1' : ['rektor'],\n",
        "         'warek2' : ['kaprodi1','kaprodi2','kaprodi3','rektor'],\n",
        "         'kaprodi1' : ['dosenA','dosenB','dosenC','warek2'],\n",
        "         'kaprodi2' : ['dosenD','dosenE','warek2'],\n",
        "         'kaprodi3' : ['dosenF','dosenG','warek2'],\n",
        "         'dosenG' : ['kaprodi3'],\n",
        "         'dosenF' : ['kaprodi3'],\n",
        "         'dosenE' : ['kaprodi2'],\n",
        "         'dosenD' : ['kaprodi2'],\n",
        "         'dosenC' : ['kaprodi1'],\n",
        "         'dosenB' : ['kaprodi1'],\n",
        "         'dosenA' : ['kaprodi1']\n",
        "        }"
      ],
      "metadata": {
        "id": "x85EIdN3r5Ix"
      },
      "execution_count": 9,
      "outputs": []
    },
    {
      "cell_type": "code",
      "source": [
        "# Slide 17\n",
        "# Latihan BFS\n",
        "\n",
        "bfs(graph,'rektor')"
      ],
      "metadata": {
        "colab": {
          "base_uri": "https://localhost:8080/"
        },
        "id": "kGoVSBAkzUPS",
        "outputId": "e2c93467-cac8-4e5d-ee61-32e0341980d2"
      },
      "execution_count": 10,
      "outputs": [
        {
          "output_type": "execute_result",
          "data": {
            "text/plain": [
              "['rektor',\n",
              " 'warek1',\n",
              " 'warek2',\n",
              " 'kaprodi1',\n",
              " 'kaprodi2',\n",
              " 'kaprodi3',\n",
              " 'dosenA',\n",
              " 'dosenB',\n",
              " 'dosenC',\n",
              " 'dosenD',\n",
              " 'dosenE',\n",
              " 'dosenF',\n",
              " 'dosenG']"
            ]
          },
          "metadata": {},
          "execution_count": 10
        }
      ]
    },
    {
      "cell_type": "code",
      "source": [
        "# Slide 17\n",
        "# Latihan BFS\n",
        "\n",
        "bfs(graph,'warek2')"
      ],
      "metadata": {
        "colab": {
          "base_uri": "https://localhost:8080/"
        },
        "id": "lqNlpK74zhDs",
        "outputId": "6d73436a-0329-41aa-d830-196db2ea231b"
      },
      "execution_count": 11,
      "outputs": [
        {
          "output_type": "execute_result",
          "data": {
            "text/plain": [
              "['warek2',\n",
              " 'kaprodi1',\n",
              " 'kaprodi2',\n",
              " 'kaprodi3',\n",
              " 'rektor',\n",
              " 'dosenA',\n",
              " 'dosenB',\n",
              " 'dosenC',\n",
              " 'dosenD',\n",
              " 'dosenE',\n",
              " 'dosenF',\n",
              " 'dosenG',\n",
              " 'warek1']"
            ]
          },
          "metadata": {},
          "execution_count": 11
        }
      ]
    },
    {
      "cell_type": "code",
      "source": [
        "# Slide 17\n",
        "# Latihan BFS\n",
        "\n",
        "bfs(graph,'kaprodi3')"
      ],
      "metadata": {
        "colab": {
          "base_uri": "https://localhost:8080/"
        },
        "id": "7BKRNHYq01FX",
        "outputId": "eade7148-f71b-4aa2-9ae5-66913e04adae"
      },
      "execution_count": 12,
      "outputs": [
        {
          "output_type": "execute_result",
          "data": {
            "text/plain": [
              "['kaprodi3',\n",
              " 'dosenF',\n",
              " 'dosenG',\n",
              " 'warek2',\n",
              " 'kaprodi1',\n",
              " 'kaprodi2',\n",
              " 'rektor',\n",
              " 'dosenA',\n",
              " 'dosenB',\n",
              " 'dosenC',\n",
              " 'dosenD',\n",
              " 'dosenE',\n",
              " 'warek1']"
            ]
          },
          "metadata": {},
          "execution_count": 12
        }
      ]
    },
    {
      "cell_type": "code",
      "source": [
        "# Slide 17\n",
        "# Latihan BFS\n",
        "\n",
        "bfs(graph,'dosenB')"
      ],
      "metadata": {
        "colab": {
          "base_uri": "https://localhost:8080/"
        },
        "id": "4KT8ZP9Y4sGy",
        "outputId": "c538f21b-b004-46b3-9b1c-709e3fb03fd6"
      },
      "execution_count": 13,
      "outputs": [
        {
          "output_type": "execute_result",
          "data": {
            "text/plain": [
              "['dosenB',\n",
              " 'kaprodi1',\n",
              " 'dosenA',\n",
              " 'dosenC',\n",
              " 'warek2',\n",
              " 'kaprodi2',\n",
              " 'kaprodi3',\n",
              " 'rektor',\n",
              " 'dosenD',\n",
              " 'dosenE',\n",
              " 'dosenF',\n",
              " 'dosenG',\n",
              " 'warek1']"
            ]
          },
          "metadata": {},
          "execution_count": 13
        }
      ]
    },
    {
      "cell_type": "code",
      "source": [
        "# Slide 6\n",
        "\n",
        "graph = {'0' : ['9','7','11'],\n",
        "         '9' : ['8','10','0'],\n",
        "         '7' : ['6','3','0','11'],\n",
        "         '8' : ['1','12','9'],\n",
        "         '6' : ['5','7'],\n",
        "         '12' : ['2','8'],\n",
        "         '3' : ['2','4','7'],\n",
        "         '5' : ['6'],\n",
        "         '4' : ['3'],\n",
        "         '10' : ['9','1'],\n",
        "         '11' : ['0','7'],\n",
        "         '1' : ['10','8'],\n",
        "         '2' : ['12','3']\n",
        "        }"
      ],
      "metadata": {
        "id": "xufk05Ypf93t"
      },
      "execution_count": 14,
      "outputs": []
    },
    {
      "cell_type": "code",
      "source": [
        "# Slide 6\n",
        "# Latihan BFS\n",
        "\n",
        "bfs(graph,'0')"
      ],
      "metadata": {
        "colab": {
          "base_uri": "https://localhost:8080/"
        },
        "id": "FmXlyDv526Bu",
        "outputId": "bb1b0eed-c555-4e31-f8d8-7f120520c661"
      },
      "execution_count": 15,
      "outputs": [
        {
          "output_type": "execute_result",
          "data": {
            "text/plain": [
              "['0', '9', '7', '11', '8', '10', '6', '3', '1', '12', '5', '2', '4']"
            ]
          },
          "metadata": {},
          "execution_count": 15
        }
      ]
    },
    {
      "cell_type": "code",
      "source": [
        "# Slide 6\n",
        "# Latihan BFS\n",
        "\n",
        "bfs(graph,'4')"
      ],
      "metadata": {
        "colab": {
          "base_uri": "https://localhost:8080/"
        },
        "id": "irzRn0K938K1",
        "outputId": "afade8d7-7e0f-4b4b-d091-af85b3e36597"
      },
      "execution_count": 16,
      "outputs": [
        {
          "output_type": "execute_result",
          "data": {
            "text/plain": [
              "['4', '3', '2', '7', '12', '6', '0', '11', '8', '5', '9', '1', '10']"
            ]
          },
          "metadata": {},
          "execution_count": 16
        }
      ]
    },
    {
      "cell_type": "code",
      "source": [
        "# Slide 6\n",
        "# Latihan BFS\n",
        "\n",
        "bfs(graph,'8')"
      ],
      "metadata": {
        "colab": {
          "base_uri": "https://localhost:8080/"
        },
        "id": "02uN7Pps4kKF",
        "outputId": "f4e57fb1-c8a3-46da-824d-17f3f26cbd94"
      },
      "execution_count": 17,
      "outputs": [
        {
          "output_type": "execute_result",
          "data": {
            "text/plain": [
              "['8', '1', '12', '9', '10', '2', '0', '3', '7', '11', '4', '6', '5']"
            ]
          },
          "metadata": {},
          "execution_count": 17
        }
      ]
    },
    {
      "cell_type": "code",
      "source": [
        "# Slide 6\n",
        "# Latihan BFS\n",
        "\n",
        "bfs(graph,'7')"
      ],
      "metadata": {
        "colab": {
          "base_uri": "https://localhost:8080/"
        },
        "id": "c315yRH__yys",
        "outputId": "bc820c52-04af-44d1-c892-8acb9ceebf5d"
      },
      "execution_count": 18,
      "outputs": [
        {
          "output_type": "execute_result",
          "data": {
            "text/plain": [
              "['7', '6', '3', '0', '11', '5', '2', '4', '9', '12', '8', '10', '1']"
            ]
          },
          "metadata": {},
          "execution_count": 18
        }
      ]
    },
    {
      "cell_type": "code",
      "source": [
        "# Slide 21\n",
        "# DEPTH-FIRST SEARCH\n",
        "\n",
        "def dfs(visited, graph, node):\n",
        "  if node not in visited:\n",
        "    print(node)\n",
        "    visited.add(node)\n",
        "    for neighbour in graph[node]:\n",
        "      dfs(visited, graph, neighbour)"
      ],
      "metadata": {
        "id": "mj0QedZx1X3R"
      },
      "execution_count": 19,
      "outputs": []
    },
    {
      "cell_type": "code",
      "source": [
        "# Slide 20\n",
        "# Latihan DFS\n",
        "\n",
        "graph = {'0' : ['9','1'],\n",
        "         '1' : ['0','9'],\n",
        "         '9' : ['0','8'],\n",
        "         '8' : ['1','7','9'],\n",
        "         '7' : ['10','11','6','3'],\n",
        "         '10' : ['7','11'],\n",
        "         '11' : ['10','7'],\n",
        "         '6' : ['5','7'],\n",
        "         '5' : ['3','6'],\n",
        "         '3' : ['7','4','5','2'],\n",
        "         '4' : ['3'],\n",
        "         '2' : ['3'],\n",
        "         '12' : ['12']\n",
        "        }"
      ],
      "metadata": {
        "id": "WNbbKfHFJMHz"
      },
      "execution_count": 20,
      "outputs": []
    },
    {
      "cell_type": "code",
      "source": [
        "# Slide 20\n",
        "# Latihan DFS\n",
        "\n",
        "visited = set()\n",
        "dfs(visited, graph, '0')"
      ],
      "metadata": {
        "colab": {
          "base_uri": "https://localhost:8080/"
        },
        "id": "S4TX7OX1KCNP",
        "outputId": "2232ee44-6da7-407c-82b3-78c63fcac957"
      },
      "execution_count": 21,
      "outputs": [
        {
          "output_type": "stream",
          "name": "stdout",
          "text": [
            "0\n",
            "9\n",
            "8\n",
            "1\n",
            "7\n",
            "10\n",
            "11\n",
            "6\n",
            "5\n",
            "3\n",
            "4\n",
            "2\n"
          ]
        }
      ]
    },
    {
      "cell_type": "code",
      "source": [
        "# Slide 20\n",
        "# Latihan DFS\n",
        "\n",
        "visited = set()\n",
        "dfs(visited, graph, '3')"
      ],
      "metadata": {
        "colab": {
          "base_uri": "https://localhost:8080/"
        },
        "id": "AZAWqcsgKK-S",
        "outputId": "f449110c-80df-47d4-9d0b-f82b6f49f8ab"
      },
      "execution_count": 22,
      "outputs": [
        {
          "output_type": "stream",
          "name": "stdout",
          "text": [
            "3\n",
            "7\n",
            "10\n",
            "11\n",
            "6\n",
            "5\n",
            "4\n",
            "2\n"
          ]
        }
      ]
    },
    {
      "cell_type": "code",
      "source": [
        "# Slide 20\n",
        "# Latihan DFS\n",
        "\n",
        "visited = set()\n",
        "dfs(visited, graph, '4')"
      ],
      "metadata": {
        "colab": {
          "base_uri": "https://localhost:8080/"
        },
        "id": "nF76DsjDKWiI",
        "outputId": "ca313cf4-c08f-44b7-e13b-bf75360f372f"
      },
      "execution_count": 23,
      "outputs": [
        {
          "output_type": "stream",
          "name": "stdout",
          "text": [
            "4\n",
            "3\n",
            "7\n",
            "10\n",
            "11\n",
            "6\n",
            "5\n",
            "2\n"
          ]
        }
      ]
    },
    {
      "cell_type": "code",
      "source": [
        "# Latihan DFS\n",
        "\n",
        "graph = {'rektor' : ['warek1','warek2'],\n",
        "         'warek1' : ['rektor'],\n",
        "         'warek2' : ['kaprodi1','kaprodi2','kaprodi3','rektor'],\n",
        "         'kaprodi1' : ['dosenA','dosenB','dosenC','warek2'],\n",
        "         'kaprodi2' : ['dosenD','dosenE','warek2'],\n",
        "         'kaprodi3' : ['dosenF','dosenG','warek2'],\n",
        "         'dosenG' : ['kaprodi3'],\n",
        "         'dosenF' : ['kaprodi3'],\n",
        "         'dosenD' : ['kaprodi2'],\n",
        "         'dosenE' : ['kaprodi2'],\n",
        "         'dosenA' : ['kaprodi1'],\n",
        "         'dosenB' : ['kaprodi1'],\n",
        "         'dosenC' : ['kaprodi1']\n",
        "        }"
      ],
      "metadata": {
        "id": "ocwCKDp722mQ"
      },
      "execution_count": 24,
      "outputs": []
    },
    {
      "cell_type": "code",
      "source": [
        "visited = set()\n",
        "dfs(visited, graph, 'rektor')"
      ],
      "metadata": {
        "colab": {
          "base_uri": "https://localhost:8080/"
        },
        "id": "HmjlOIxU26qw",
        "outputId": "6a03894b-be77-49ef-cf82-261681ab1a78"
      },
      "execution_count": 25,
      "outputs": [
        {
          "output_type": "stream",
          "name": "stdout",
          "text": [
            "rektor\n",
            "warek1\n",
            "warek2\n",
            "kaprodi1\n",
            "dosenA\n",
            "dosenB\n",
            "dosenC\n",
            "kaprodi2\n",
            "dosenD\n",
            "dosenE\n",
            "kaprodi3\n",
            "dosenF\n",
            "dosenG\n"
          ]
        }
      ]
    },
    {
      "cell_type": "code",
      "source": [
        "# Slide 22\n",
        "\n",
        "graph = {'amin' : ['wasim','nick','mike'],\n",
        "         'wasim' : ['imran','amin'],\n",
        "         'imran' : ['wasim','faras'],\n",
        "         'faras' : ['imran'],\n",
        "         'mike' : ['amin'],\n",
        "         'nick' : ['amin']\n",
        "}"
      ],
      "metadata": {
        "id": "km4SPf932M2A"
      },
      "execution_count": 26,
      "outputs": []
    },
    {
      "cell_type": "code",
      "source": [
        "# Slide 24\n",
        "\n",
        "# o amin ---------------------\n",
        "# |             |           |\n",
        "# o wasim    o nick     o mike\n",
        "# |\n",
        "# o imran\n",
        "# |\n",
        "# o faras\n",
        "visited = set()\n",
        "dfs(visited, graph, 'amin')"
      ],
      "metadata": {
        "colab": {
          "base_uri": "https://localhost:8080/"
        },
        "id": "wV-DPixv2S0w",
        "outputId": "1d703b2c-9a18-48c6-fb8a-f04b0cdedff9"
      },
      "execution_count": 27,
      "outputs": [
        {
          "output_type": "stream",
          "name": "stdout",
          "text": [
            "amin\n",
            "wasim\n",
            "imran\n",
            "faras\n",
            "nick\n",
            "mike\n"
          ]
        }
      ]
    },
    {
      "cell_type": "code",
      "source": [
        "# Slide 25\n",
        "\n",
        "# o amin ---------------------\n",
        "# |             |           |\n",
        "# o wasim    o nick     o mike\n",
        "# |\n",
        "# o imran\n",
        "# |\n",
        "# o faras\n",
        "visited = set()\n",
        "dfs(visited, graph, 'wasim')"
      ],
      "metadata": {
        "colab": {
          "base_uri": "https://localhost:8080/"
        },
        "id": "ZTi_RrwP2jfw",
        "outputId": "c506e635-2418-4b24-dfb9-a0b2f312243e"
      },
      "execution_count": 28,
      "outputs": [
        {
          "output_type": "stream",
          "name": "stdout",
          "text": [
            "wasim\n",
            "imran\n",
            "faras\n",
            "amin\n",
            "nick\n",
            "mike\n"
          ]
        }
      ]
    },
    {
      "cell_type": "code",
      "source": [
        "#Slide 26\n",
        "\n",
        "# o amin ---------------------\n",
        "# |             |           |\n",
        "# o wasim    o nick     o mike\n",
        "# |\n",
        "# o imran\n",
        "# |\n",
        "# o faras\n",
        "visited = set()\n",
        "dfs(visited, graph, 'faras')"
      ],
      "metadata": {
        "colab": {
          "base_uri": "https://localhost:8080/"
        },
        "id": "NFwZoSnK2opQ",
        "outputId": "16154160-814f-4cc1-f333-dcddac963b4a"
      },
      "execution_count": 29,
      "outputs": [
        {
          "output_type": "stream",
          "name": "stdout",
          "text": [
            "faras\n",
            "imran\n",
            "wasim\n",
            "amin\n",
            "nick\n",
            "mike\n"
          ]
        }
      ]
    },
    {
      "cell_type": "code",
      "source": [
        "#Slide 27\n",
        "\n",
        "# o amin ---------------------\n",
        "# |             |           |\n",
        "# o wasim    o nick     o mike\n",
        "# |\n",
        "# o imran\n",
        "# |\n",
        "# o faras\n",
        "visited = set()\n",
        "dfs(visited, graph, 'nick')"
      ],
      "metadata": {
        "colab": {
          "base_uri": "https://localhost:8080/"
        },
        "id": "vno4JdSX2wmQ",
        "outputId": "87c99973-ca57-4bfa-9f84-6906dadcf550"
      },
      "execution_count": 30,
      "outputs": [
        {
          "output_type": "stream",
          "name": "stdout",
          "text": [
            "nick\n",
            "amin\n",
            "wasim\n",
            "imran\n",
            "faras\n",
            "mike\n"
          ]
        }
      ]
    },
    {
      "cell_type": "markdown",
      "source": [
        "**Menurut saya,  Algoritma BFS dan DFS** adalah dua algoritma umum yang digunakan untuk melakukan traversal graf. Kedua algoritma ini memiliki perbedaan dalam cara mereka menjelajahi graf, yang menghasilkan hasil yang berbeda dalam beberapa kasus, seperti pada kasus Amin, Rektor dan titik 0.\n",
        "\n",
        "**BFS** mengeksplorasi graf secara berlapis, mendatar atau meluas, dimulai dari simpul awal dan mengunjungi semua simpul pada jarak yang sama dari simpul awal sebelum beralih ke simpul yang lebih jauh. Ini menggunakan antrian untuk menyimpan simpul yang akan dikunjungi.\n",
        "\n",
        "**DFS** mengeksplorasi graf secara mendalam, mengikuti satu jalur sampai mencapai simpul yang belum dikunjungi, dan kemudian mundur untuk mencoba jalur lain. Ini menggunakan tumpukan untuk menyimpan simpul yang akan dikunjungi.\n",
        "\n",
        "\n",
        "\n",
        "**Hasil Analisis Algoritma BFS (Breadth-First Search):**\n",
        "*   Pada graf Amin: BFS akan mengunjungi simpul Amin, kemudian semua tetangganya (wasim, nick, mike), lalu tetangga dari wasim, nick, dan mike secara bergantian. Ini karena BFS mengunjungi simpul pada tingkat yang sama sebelum melanjutkan ke tingkat berikutnya.\n",
        "*   Pada graf Rektor: BFS akan mengunjungi simpul rektor, kemudian warek1 dan warek2, dan seterusnya. BFS akan menjelajahi graf pada tingkat yang sama sebelum melanjutkan ke tingkat lebih dalam.\n",
        "*   Pada graf 0: BFS akan mengunjungi simpul 0, lalu 9, 7, 11, dan seterusnya secara bergantian pada tingkat yang sama.\n",
        "\n",
        "\n",
        "**Hasil Analisis DepthFS (Depth-First Search):**\n",
        "*   Pada graf Amin: DFS akan mengunjungi simpul Amin, kemudian semua tetangganya (wasim, nick, mike), dan seterusnya secara rekursif pada masing-masing cabang.\n",
        "*   Pada graf Rektor: DFS akan mengunjungi simpul rektor, kemudian warek1, dan seterusnya secara rekursif pada masing-masing cabang.\n",
        "*   Pada graf 0: DFS akan mengunjungi simpul 0, lalu 9, 8, 1, 10, dan seterusnya secara rekursif pada masing-masing cabang.\n",
        "\n",
        "\n",
        "**Kesimpulan:**\n",
        "*   Menurut saya, algoritma BFS dan DFS adalah algoritma pencarian graf yang efektif tergantung pada kebutuhan dan struktur graf. Jika ingin menjelajahi secara lebar, BFS lebih sesuai. Jika ingin menjelajahi secara dalam, DFS lebih sesuai. Kedua algoritma memastikan bahwa setiap simpul dikunjungi tepat satu kali.\n",
        "*   Berdasarkan latihan pada kelas DAA, Implementasi algoritma BFS dan DFS pada ketiga graf menghasilkan output yang sesuai dengan karakteristik keduanya.\n",
        "BFS lebih baik untuk menemukan simpul terdekat dengan simpul awal, karena ia mengeksplorasi graf secara berlapis dan akan menemukan simpul terdekat terlebih dahulu.\n",
        "*   DFS lebih baik untuk menemukan simpul yang jauh dengan simpul awal, karena ia mengikuti satu jalur sampai mencapai simpul yang belum dikunjungi, yang dapat membuatnya lebih cepat menemukan simpul yang jauh. DFS juga lebih baik untuk menemukan dependensi pada graf, karena ia akan mengunjungi semua simpul pada jalur tertentu sebelum beralih ke jalur lain. Ini dapat berguna untuk menemukan ketergantungan dalam kode atau struktur lain.\n",
        "\n",
        "\n",
        "\n",
        "\n"
      ],
      "metadata": {
        "id": "lj-4dNmBMHeA"
      }
    }
  ]
}